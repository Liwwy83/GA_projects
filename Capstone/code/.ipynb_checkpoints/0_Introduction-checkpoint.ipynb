{
 "cells": [
  {
   "cell_type": "markdown",
   "id": "75ff88e6",
   "metadata": {},
   "source": [
    "# CAPSTONE - Improving A Level H2 Math Grade Predictions\n",
    "---\n",
    "\n",
    "## Motivation\n",
    "A Level Grade Predictions are important for students who wish to apply for overseas universities and/or scholarships in the cycle before their actual A Level Grades are available. Usually these applications need to be submitted from as early as September of the year that students sit for the A Levels, and their actual A Level results are only available in February of the following year. Most schools base the predictions on the Preliminary Examination Marks (Prelims), which generally provide a decent gauge of the students' eventual results, but every year there are some students who surprise everyone by getting much better (or worse) grades than predicted.\n",
    "\n",
    "It is hypothesized that there are other factors which can be linked to students who outperform everyone's expectations. For example, students who are more involved in Co-Curricular Activities (CCA), such as those holding high leadership positions or having more intense sports training sessions may have more potential to get better grades than predicted, as they study intensely in the period between Prelims and A Levels.\n",
    "\n",
    "In addition, teachers try to give extra attention and assistance to potential failures. In order to capture all the potential weak performers, a wide net is cast and this takes up the teachers' limited time and spread the help thin.\n",
    "\n",
    "This project aims to\n",
    "1. sieve out these factors and use them to generate better predictions, so that the potentially high-achieving students can be given better predicted grades to boost their university and/or scholarship applications;\n",
    "2. reduce the number of students in the watchlist so that teachers can focus more attention on the true potential weak performers. \n",
    "\n",
    "## Data \n",
    "The data is provided by a top Junior College in Singapore with actual A Level Grades for the subject H2 Math (MA2), the most common subject read by students in this College. On top of being an ordinal classification problem (classes have inherent ranking where"
   ]
  },
  {
   "cell_type": "code",
   "execution_count": null,
   "id": "02b3166c",
   "metadata": {},
   "outputs": [],
   "source": []
  },
  {
   "cell_type": "code",
   "execution_count": null,
   "id": "7a07ee1f",
   "metadata": {},
   "outputs": [],
   "source": []
  },
  {
   "cell_type": "code",
   "execution_count": null,
   "id": "4787ec61",
   "metadata": {},
   "outputs": [],
   "source": []
  },
  {
   "cell_type": "code",
   "execution_count": null,
   "id": "dd7dfebf",
   "metadata": {},
   "outputs": [],
   "source": []
  }
 ],
 "metadata": {
  "kernelspec": {
   "display_name": "Python 3 (ipykernel)",
   "language": "python",
   "name": "python3"
  },
  "language_info": {
   "codemirror_mode": {
    "name": "ipython",
    "version": 3
   },
   "file_extension": ".py",
   "mimetype": "text/x-python",
   "name": "python",
   "nbconvert_exporter": "python",
   "pygments_lexer": "ipython3",
   "version": "3.8.12"
  }
 },
 "nbformat": 4,
 "nbformat_minor": 5
}
