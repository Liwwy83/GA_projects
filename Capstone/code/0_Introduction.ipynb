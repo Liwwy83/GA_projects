{
 "cells": [
  {
   "cell_type": "markdown",
   "id": "9e9dfb08",
   "metadata": {},
   "source": [
    "# CAPSTONE - Grade Predictions for A Level H2 Math\n",
    "---\n",
    "# (0) Introduction\n",
    "Grade predictions are important for students who wish to apply for overseas universities and/or scholarships in the cycle before their actual A level grades are available. Usually these applications need to be submitted from as early as September of the year that students sit for the A levels, and their actual A level results are only available in February of the following year. Most schools base the predictions on the Preliminary Examination (Prelim), which generally provide a decent gauge of the students' eventual results, but every year there are some students who surprise everyone by getting much better (or worse) grades than predicted.\n",
    "\n",
    "It is hypothesized that there are other factors which can be linked to students who outperform everyone's expectations. For example, students who are more involved in Co-Curricular Activities (CCA), such as those holding high leadership positions or having more intense sports training sessions may have more potential to get better grades than predicted, as they study intensely in the period between Prelim and A levels.\n",
    "\n",
    "In addition, teachers try to give extra attention and assistance to potential failures. In order to capture all the potential weak performers, a wide net is cast and this takes up the teachers' limited time and spread the help thin.\n",
    "\n",
    "## Contents\n",
    "- [Problem Statement](#Problem-Statement)\n",
    "- [Tools for Evaluation](#Tools-for-Evaluation)\n",
    "- [Data Source and Confidentiality](#Data-Source-and-Confidentiality)\n",
    "- [Organisation of Python Notebooks](#Organisation-of-Python-Notebooks)\n",
    "\n",
    "---"
   ]
  },
  {
   "cell_type": "markdown",
   "id": "0249eaf6",
   "metadata": {},
   "source": [
    "# Problem Statement\n",
    "Grade prediction is an ordinal classification problem where classes have inherent ranking, i.e. A is better than B. We narrow our scope down to the subject of H2 Mathematics, which is one of the most common subjects taken by students at A levels in Singapore, and has an additional challenge of being imbalanced (a large majority is grade A while a small number is a failure grade of S or U).\n",
    "\n",
    "We have multiple objectives we wish to achieve in this project.\n",
    "\n",
    "## Objective 1\n",
    "Evaluate the effectiveness of a benchmark method using only Prelim marks and past years' results that does not involve machine learning.\n",
    "\n",
    "This objective will be assessed using the tools for evaluation described in the next sections, with the benchmark method compared against the machine learning model(s) we create.\n",
    "\n",
    "## Objective 2\n",
    "Sieve out factors that help predict use them to generate better predictions, so that the potentially high-achieving students can be given better predicted grades to boost their university and/or scholarship applications.\n",
    "\n",
    "This objective will be achieved by using the feature coefficients or feature importances of the machine learning model(s) we build.\n",
    "\n",
    "## Objective 3\n",
    "Reduce the number of students in the watchlist so that teachers can focus more attention on the true potential weak performers.\n",
    "\n",
    "We will look at the number of students that are predicted in the lowest grade category in order to get 100% recall rate in that category for the machine learning model(s) and compare them against the benchmark method.\n",
    "\n",
    "---"
   ]
  },
  {
   "cell_type": "markdown",
   "id": "b77b2894",
   "metadata": {},
   "source": [
    "# Tools for Evaluation\n",
    "We evaluate the predictions on the following:\n",
    "\n",
    "## Weighted Cohen's Kappa Score\n",
    "The general Cohen's kappa score is a metric that accounts for getting correct predictions just by chance. It mitigates the issue of having high accuracy scores due to large class imbalance, which we have here as a large majority of the target values are grade A. Random predictions (like the baseline model where every row is predicted as the most common grade) should yield 0.0 and higher scores are better.\n",
    "\n",
    "The weighted Cohen's kappa score (weighted kappa) is more suitable here as it accounts for the ordinal ranking between classes, where a prediction that is 2 grades away is penalized more heavily than a prediction that is just 1 grade away. This will be the main metric that we will be attempting to maximize when modelling.\n",
    "\n",
    "## Recall Scores\n",
    "We look at the recall scores for the lowest grade category and aim for 100% recall rate as these are the students we wish to identify correctly to provide intervention measures. From our data, grades S and U have very small numbers of students in each batch so it is necessary to merge these classes with grade E such that the lowest grade category is 'ESU'. For other schools where the number of S and U grades may be higher, it may be fine to only merge S and U (the actual failing grades) or it may not be necessary to merge any of the classes at all. \n",
    "\n",
    "For a summarised recall score, we use the macro average as we do not want the results to be pulled up by the majority class of grade A.\n",
    "\n",
    "## Confusion Matrix\n",
    "The confusion matrix shows where the wrong predictions are. The main diagonal are correct predictions, the upper right triangle have predicted grades lower than actual grades and the lower left triangle have predicted grades higher than actual grades. We will compare the number of predictions that are within 1 grade, 2 or more grades away, better than actual and worse than actual when comparing our machine learning model(s) against the benchmark method.\n",
    "\n",
    "---"
   ]
  },
  {
   "cell_type": "markdown",
   "id": "5cac840e",
   "metadata": {},
   "source": [
    "# Data Source and Confidentiality\n",
    "3 years of data is provided by a school in Singapore with actual A level grades for H2 Mathematics. Batch 18 and batch 19 have actual A level results provided at the beginning of the project in Jan 2022, while the results of batch 20 was not available then and only released near the end of this project on 22 Feb 2022. We will use batch 18 and batch 19 data to create and evaluate our models before finally testing the predictions on batch 20.\n",
    "\n",
    "We asked for data related to results such as grades, marks and percentiles for Prelim (taken in the second year in the school around 2 months before sitting for the A levels) and C1 (taken in the first year in the school), as well as other data not directly related to academic results such as Co-Curricular Activities (CCA) and Community Involvement Projects (CIP).\n",
    "\n",
    "While the project was carried out on the full dataset, due to confidentiality issues, this cannot be shared in public. Instead, we share a modified dataset, where some entries have been renamed where possible and some columns have been removed. For example, the data on CCA/CIP cannot be disclosed as the entries contain names of clubs or activities that are unique to the school. In addition, the number of rows of data is cut to the first 500 rows for sharing. Some numerical results are also redacted to prevent the data from being traced back to the school.\n",
    "\n",
    "Nonetheless, the python notebooks shared here should provide sufficient information on the thought processes and results, so that anyone who wishes to carry out a similar project on their own school data may do so.\n",
    "\n",
    "---"
   ]
  },
  {
   "cell_type": "markdown",
   "id": "c62dcc40",
   "metadata": {},
   "source": [
    "# Organisation of Python Notebooks\n",
    "## (1) [Benchmark](1_Benchmark.ipynb)\n",
    "We generate predictions using only Prelim marks and past years' results and evaluate them with the [tools for evaluation](#Tools-for-Evaluation).\n",
    "\n",
    "## (2) [Data Cleaning and EDA](2_Data_Cleaning_and_EDA)\n",
    "We explore the datasets given, clean them up and select the features to use, creatively engineering features as appropriate. We also impute any missing values in the final list of features selected, as we cannot drop any row - each and every student must have a predicted grade.\n",
    "\n",
    "## (3) [Modelling](3_Modelling.ipynb)\n",
    "We focused on classification algorithms with a class weights hyperparameter in order to achieve 100% recall rate for the lowest grade category. We also attempted XG Boost classifier and a new approach to ordinal classification  based on [this paper](https://www.cs.waikato.ac.nz/~eibe/pubs/ordinal_tech_report.pdf) that is not directly available in a python library.\n",
    "\n",
    "We investigated the top features highlighted by our machine learning models to draw insights and then finally evaluated our predictions with the actual results of batch 20 when it became available.\n",
    "\n",
    "## (4) [Conclusion and Recommendations](4_Conclusion_and_Recommendations.ipynb)\n",
    "\n",
    "---"
   ]
  }
 ],
 "metadata": {
  "kernelspec": {
   "display_name": "Python 3 (ipykernel)",
   "language": "python",
   "name": "python3"
  },
  "language_info": {
   "codemirror_mode": {
    "name": "ipython",
    "version": 3
   },
   "file_extension": ".py",
   "mimetype": "text/x-python",
   "name": "python",
   "nbconvert_exporter": "python",
   "pygments_lexer": "ipython3",
   "version": "3.8.12"
  }
 },
 "nbformat": 4,
 "nbformat_minor": 5
}
