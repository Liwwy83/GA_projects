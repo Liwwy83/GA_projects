{
 "cells": [
  {
   "cell_type": "markdown",
   "id": "21b76255",
   "metadata": {},
   "source": [
    "# INTRODUCTION\n",
    "In this project, we will understand the features that affect the Sale Price of housing in Ames, Iowa. We aim to find a production model that we can use to get a good score on Kaggle, as well as find business insights on what helps to increase Sale Price.\n",
    "\n",
    "We break this into 3 notebooks:\n",
    "\n",
    "(1) EDA and Cleaning: preliminary cleaning of data to remove missing values\n",
    "\n",
    "(2) Features Selection: detailed analysis of each of the 80 columns in the dataset to select relevant features for modelling\n",
    "\n",
    "(3) Model Selection and Predictions: scoring various models with and without scaling to select the best model for Kaggle submission, and get business insights through an interpretable model"
   ]
  },
  {
   "cell_type": "markdown",
   "id": "2880a47c",
   "metadata": {},
   "source": [
    "# (1) EDA and Cleaning\n",
    "In this notebook, we will do a preliminary EDA and Cleaning of the data and save the cleaned file as cleaned_train.csv."
   ]
  },
  {
   "cell_type": "code",
   "execution_count": 1,
   "id": "504cc717",
   "metadata": {},
   "outputs": [],
   "source": [
    "# imports\n",
    "import pandas as pd\n",
    "import matplotlib.pyplot as plt"
   ]
  },
  {
   "cell_type": "code",
   "execution_count": 2,
   "id": "89b6586d",
   "metadata": {},
   "outputs": [],
   "source": [
    "# load datasets\n",
    "train = pd.read_csv('datasets/train.csv')\n",
    "test = pd.read_csv('datasets/test.csv')"
   ]
  },
  {
   "cell_type": "code",
   "execution_count": 3,
   "id": "113e7bfe",
   "metadata": {},
   "outputs": [
    {
     "name": "stdout",
     "output_type": "stream",
     "text": [
      "<class 'pandas.core.frame.DataFrame'>\n",
      "RangeIndex: 2051 entries, 0 to 2050\n",
      "Data columns (total 81 columns):\n",
      " #   Column           Non-Null Count  Dtype  \n",
      "---  ------           --------------  -----  \n",
      " 0   Id               2051 non-null   int64  \n",
      " 1   PID              2051 non-null   int64  \n",
      " 2   MS SubClass      2051 non-null   int64  \n",
      " 3   MS Zoning        2051 non-null   object \n",
      " 4   Lot Frontage     1721 non-null   float64\n",
      " 5   Lot Area         2051 non-null   int64  \n",
      " 6   Street           2051 non-null   object \n",
      " 7   Alley            140 non-null    object \n",
      " 8   Lot Shape        2051 non-null   object \n",
      " 9   Land Contour     2051 non-null   object \n",
      " 10  Utilities        2051 non-null   object \n",
      " 11  Lot Config       2051 non-null   object \n",
      " 12  Land Slope       2051 non-null   object \n",
      " 13  Neighborhood     2051 non-null   object \n",
      " 14  Condition 1      2051 non-null   object \n",
      " 15  Condition 2      2051 non-null   object \n",
      " 16  Bldg Type        2051 non-null   object \n",
      " 17  House Style      2051 non-null   object \n",
      " 18  Overall Qual     2051 non-null   int64  \n",
      " 19  Overall Cond     2051 non-null   int64  \n",
      " 20  Year Built       2051 non-null   int64  \n",
      " 21  Year Remod/Add   2051 non-null   int64  \n",
      " 22  Roof Style       2051 non-null   object \n",
      " 23  Roof Matl        2051 non-null   object \n",
      " 24  Exterior 1st     2051 non-null   object \n",
      " 25  Exterior 2nd     2051 non-null   object \n",
      " 26  Mas Vnr Type     2029 non-null   object \n",
      " 27  Mas Vnr Area     2029 non-null   float64\n",
      " 28  Exter Qual       2051 non-null   object \n",
      " 29  Exter Cond       2051 non-null   object \n",
      " 30  Foundation       2051 non-null   object \n",
      " 31  Bsmt Qual        1996 non-null   object \n",
      " 32  Bsmt Cond        1996 non-null   object \n",
      " 33  Bsmt Exposure    1993 non-null   object \n",
      " 34  BsmtFin Type 1   1996 non-null   object \n",
      " 35  BsmtFin SF 1     2050 non-null   float64\n",
      " 36  BsmtFin Type 2   1995 non-null   object \n",
      " 37  BsmtFin SF 2     2050 non-null   float64\n",
      " 38  Bsmt Unf SF      2050 non-null   float64\n",
      " 39  Total Bsmt SF    2050 non-null   float64\n",
      " 40  Heating          2051 non-null   object \n",
      " 41  Heating QC       2051 non-null   object \n",
      " 42  Central Air      2051 non-null   object \n",
      " 43  Electrical       2051 non-null   object \n",
      " 44  1st Flr SF       2051 non-null   int64  \n",
      " 45  2nd Flr SF       2051 non-null   int64  \n",
      " 46  Low Qual Fin SF  2051 non-null   int64  \n",
      " 47  Gr Liv Area      2051 non-null   int64  \n",
      " 48  Bsmt Full Bath   2049 non-null   float64\n",
      " 49  Bsmt Half Bath   2049 non-null   float64\n",
      " 50  Full Bath        2051 non-null   int64  \n",
      " 51  Half Bath        2051 non-null   int64  \n",
      " 52  Bedroom AbvGr    2051 non-null   int64  \n",
      " 53  Kitchen AbvGr    2051 non-null   int64  \n",
      " 54  Kitchen Qual     2051 non-null   object \n",
      " 55  TotRms AbvGrd    2051 non-null   int64  \n",
      " 56  Functional       2051 non-null   object \n",
      " 57  Fireplaces       2051 non-null   int64  \n",
      " 58  Fireplace Qu     1051 non-null   object \n",
      " 59  Garage Type      1938 non-null   object \n",
      " 60  Garage Yr Blt    1937 non-null   float64\n",
      " 61  Garage Finish    1937 non-null   object \n",
      " 62  Garage Cars      2050 non-null   float64\n",
      " 63  Garage Area      2050 non-null   float64\n",
      " 64  Garage Qual      1937 non-null   object \n",
      " 65  Garage Cond      1937 non-null   object \n",
      " 66  Paved Drive      2051 non-null   object \n",
      " 67  Wood Deck SF     2051 non-null   int64  \n",
      " 68  Open Porch SF    2051 non-null   int64  \n",
      " 69  Enclosed Porch   2051 non-null   int64  \n",
      " 70  3Ssn Porch       2051 non-null   int64  \n",
      " 71  Screen Porch     2051 non-null   int64  \n",
      " 72  Pool Area        2051 non-null   int64  \n",
      " 73  Pool QC          9 non-null      object \n",
      " 74  Fence            400 non-null    object \n",
      " 75  Misc Feature     65 non-null     object \n",
      " 76  Misc Val         2051 non-null   int64  \n",
      " 77  Mo Sold          2051 non-null   int64  \n",
      " 78  Yr Sold          2051 non-null   int64  \n",
      " 79  Sale Type        2051 non-null   object \n",
      " 80  SalePrice        2051 non-null   int64  \n",
      "dtypes: float64(11), int64(28), object(42)\n",
      "memory usage: 1.3+ MB\n"
     ]
    }
   ],
   "source": [
    "# check column names, missing values, datatypes\n",
    "train.info()"
   ]
  },
  {
   "cell_type": "markdown",
   "id": "8306144e",
   "metadata": {},
   "source": [
    "## Columns with Null Values in Train Data\n",
    "We will treat the columns with null values in 3 ways.\n",
    "\n",
    "### (A) Only 1 to 2 missing values out of 2051 rows\n",
    "The 8 features are BsmtFin SF 1, BsmtFin SF 2, Bsmt Unf SF, Total Bsmt SF, Bsmt Full Bath, Bsmt Half Bath, Garage Cars, Garage Area\n",
    "\n",
    "Drop these rows immediately. \n",
    "\n",
    "### (B) More than 20% values missing\n",
    "The 5 features are Alley, Fireplace Qu, Pool QC, Fence and Misc Feature.\n",
    "\n",
    "Based on information in [this article](http://jse.amstat.org/v19n3/decock/DataDocumentation.txt):\n",
    "\n",
    "NaN values in 'Alley' is likely to be No Access - check if non-null values has category NA (No Access).\n",
    "\n",
    "NaN values in 'Fireplace Qu' is likely to be No Fireplace - check if corresponding 'Fireplaces' has value 0.\n",
    "\n",
    "NaN values in 'Pool QC' is likely to be No Pool - check if corresponding 'Pool Area' has value 0.\n",
    "\n",
    "NaN values in 'Fence' is likely to be No Fence - check if non-null values has category NA (No Fence).\n",
    "\n",
    "NaN values in 'Misc Feature' is likely to be None - check if non-null values has category NA (None).\n",
    "\n",
    "### (C) Less than 20% values missing\n",
    "The 13 features are Lot Frontage, Mas Vnr Type, Mas Vnr Area, Bsmt Qual, Bsmt Cond, Bsmt Exposure, BsmtFin Type 1, BsmtFin Type 2, Garage Type, Garage Yr Blt, Garage Finish, Garage Qual, Garage Cond.\n",
    "\n",
    "We look through [this article](http://jse.amstat.org/v19n3/decock/DataDocumentation.txt) again to see if any of them should be treated the same way as (B).\n",
    "\n",
    "Lot Frontage is a length in feet, so we check if there are existing values = 0 to see if the missing values should be 0 or should be imputed using regression if we want to use this feature to predict SalePrice later.\n",
    "\n",
    "NaN values in 'Mas Vnr Type' is likely to be None - check if non-null values has category None. We also check if 'Mas Vnr Area' has existing values = 0, and if the missing values are the same rows as the missing values in 'Mas Vnr Type'.\n",
    "\n",
    "'Bsmt Qual', 'Bsmt Cond', 'Bsmt Exposure', 'BsmtFin Type 1' and 'BsmtFin Type 2' all should have a category NA (No Basement). However, there are 1 and 3 more missing values respectively for 'Bsmt Exposure' and 'BsmtFin Type 2'. We look at this again after dropping the rows in (A) again, to see if these numbers will tally.\n",
    "\n",
    "'Garage Type', 'Garage Finish', 'Garage Qual' and 'Garage Cond' all should have a category NA (No Garage). NaN values in 'Garage Yr Blt' is likely also for properties with No Garage. However, there is one less missing value for 'Garage Type' than the others. We look at this again after dropping the rows in (A) again, to see if these numbers will tally.\n"
   ]
  },
  {
   "cell_type": "code",
   "execution_count": 4,
   "id": "685240de",
   "metadata": {
    "scrolled": false
   },
   "outputs": [
    {
     "name": "stdout",
     "output_type": "stream",
     "text": [
      "<class 'pandas.core.frame.DataFrame'>\n",
      "RangeIndex: 878 entries, 0 to 877\n",
      "Data columns (total 80 columns):\n",
      " #   Column           Non-Null Count  Dtype  \n",
      "---  ------           --------------  -----  \n",
      " 0   Id               878 non-null    int64  \n",
      " 1   PID              878 non-null    int64  \n",
      " 2   MS SubClass      878 non-null    int64  \n",
      " 3   MS Zoning        878 non-null    object \n",
      " 4   Lot Frontage     718 non-null    float64\n",
      " 5   Lot Area         878 non-null    int64  \n",
      " 6   Street           878 non-null    object \n",
      " 7   Alley            58 non-null     object \n",
      " 8   Lot Shape        878 non-null    object \n",
      " 9   Land Contour     878 non-null    object \n",
      " 10  Utilities        878 non-null    object \n",
      " 11  Lot Config       878 non-null    object \n",
      " 12  Land Slope       878 non-null    object \n",
      " 13  Neighborhood     878 non-null    object \n",
      " 14  Condition 1      878 non-null    object \n",
      " 15  Condition 2      878 non-null    object \n",
      " 16  Bldg Type        878 non-null    object \n",
      " 17  House Style      878 non-null    object \n",
      " 18  Overall Qual     878 non-null    int64  \n",
      " 19  Overall Cond     878 non-null    int64  \n",
      " 20  Year Built       878 non-null    int64  \n",
      " 21  Year Remod/Add   878 non-null    int64  \n",
      " 22  Roof Style       878 non-null    object \n",
      " 23  Roof Matl        878 non-null    object \n",
      " 24  Exterior 1st     878 non-null    object \n",
      " 25  Exterior 2nd     878 non-null    object \n",
      " 26  Mas Vnr Type     877 non-null    object \n",
      " 27  Mas Vnr Area     877 non-null    float64\n",
      " 28  Exter Qual       878 non-null    object \n",
      " 29  Exter Cond       878 non-null    object \n",
      " 30  Foundation       878 non-null    object \n",
      " 31  Bsmt Qual        853 non-null    object \n",
      " 32  Bsmt Cond        853 non-null    object \n",
      " 33  Bsmt Exposure    853 non-null    object \n",
      " 34  BsmtFin Type 1   853 non-null    object \n",
      " 35  BsmtFin SF 1     878 non-null    int64  \n",
      " 36  BsmtFin Type 2   853 non-null    object \n",
      " 37  BsmtFin SF 2     878 non-null    int64  \n",
      " 38  Bsmt Unf SF      878 non-null    int64  \n",
      " 39  Total Bsmt SF    878 non-null    int64  \n",
      " 40  Heating          878 non-null    object \n",
      " 41  Heating QC       878 non-null    object \n",
      " 42  Central Air      878 non-null    object \n",
      " 43  Electrical       877 non-null    object \n",
      " 44  1st Flr SF       878 non-null    int64  \n",
      " 45  2nd Flr SF       878 non-null    int64  \n",
      " 46  Low Qual Fin SF  878 non-null    int64  \n",
      " 47  Gr Liv Area      878 non-null    int64  \n",
      " 48  Bsmt Full Bath   878 non-null    int64  \n",
      " 49  Bsmt Half Bath   878 non-null    int64  \n",
      " 50  Full Bath        878 non-null    int64  \n",
      " 51  Half Bath        878 non-null    int64  \n",
      " 52  Bedroom AbvGr    878 non-null    int64  \n",
      " 53  Kitchen AbvGr    878 non-null    int64  \n",
      " 54  Kitchen Qual     878 non-null    object \n",
      " 55  TotRms AbvGrd    878 non-null    int64  \n",
      " 56  Functional       878 non-null    object \n",
      " 57  Fireplaces       878 non-null    int64  \n",
      " 58  Fireplace Qu     456 non-null    object \n",
      " 59  Garage Type      834 non-null    object \n",
      " 60  Garage Yr Blt    833 non-null    float64\n",
      " 61  Garage Finish    833 non-null    object \n",
      " 62  Garage Cars      878 non-null    int64  \n",
      " 63  Garage Area      878 non-null    int64  \n",
      " 64  Garage Qual      833 non-null    object \n",
      " 65  Garage Cond      833 non-null    object \n",
      " 66  Paved Drive      878 non-null    object \n",
      " 67  Wood Deck SF     878 non-null    int64  \n",
      " 68  Open Porch SF    878 non-null    int64  \n",
      " 69  Enclosed Porch   878 non-null    int64  \n",
      " 70  3Ssn Porch       878 non-null    int64  \n",
      " 71  Screen Porch     878 non-null    int64  \n",
      " 72  Pool Area        878 non-null    int64  \n",
      " 73  Pool QC          4 non-null      object \n",
      " 74  Fence            172 non-null    object \n",
      " 75  Misc Feature     41 non-null     object \n",
      " 76  Misc Val         878 non-null    int64  \n",
      " 77  Mo Sold          878 non-null    int64  \n",
      " 78  Yr Sold          878 non-null    int64  \n",
      " 79  Sale Type        878 non-null    object \n",
      "dtypes: float64(3), int64(35), object(42)\n",
      "memory usage: 548.9+ KB\n"
     ]
    }
   ],
   "source": [
    "test.info()"
   ]
  },
  {
   "cell_type": "markdown",
   "id": "62fdc129",
   "metadata": {},
   "source": [
    "## Columns with Null Values in Test Data\n",
    "Revisit this after EDA and Cleaning of Train Data."
   ]
  },
  {
   "cell_type": "code",
   "execution_count": 5,
   "id": "05644b65",
   "metadata": {},
   "outputs": [],
   "source": [
    "# rename column names to replace space with underscore\n",
    "test.columns = test.columns.str.replace(' ', '_')\n",
    "train.columns = train.columns.str.replace(' ', '_')"
   ]
  },
  {
   "cell_type": "markdown",
   "id": "e31d6666",
   "metadata": {},
   "source": [
    "## (A) Only 1 to 2 missing values out of 2051 rows"
   ]
  },
  {
   "cell_type": "code",
   "execution_count": 6,
   "id": "71fce7b5",
   "metadata": {},
   "outputs": [],
   "source": [
    "# remove rows of features in Train Data with only 1 or 2 missing values\n",
    "features_A = ['BsmtFin_SF_1', \n",
    "              'BsmtFin_SF_2', \n",
    "              'Bsmt_Unf_SF', \n",
    "              'Total_Bsmt_SF', \n",
    "              'Bsmt_Full_Bath', \n",
    "              'Bsmt_Half_Bath', \n",
    "              'Garage_Cars', \n",
    "              'Garage_Area'\n",
    "             ]\n",
    "train.dropna(subset=features_A, inplace=True)"
   ]
  },
  {
   "cell_type": "code",
   "execution_count": 7,
   "id": "ad106d9e",
   "metadata": {},
   "outputs": [
    {
     "name": "stdout",
     "output_type": "stream",
     "text": [
      "<class 'pandas.core.frame.DataFrame'>\n",
      "Int64Index: 2048 entries, 0 to 2050\n",
      "Data columns (total 81 columns):\n",
      " #   Column           Non-Null Count  Dtype  \n",
      "---  ------           --------------  -----  \n",
      " 0   Id               2048 non-null   int64  \n",
      " 1   PID              2048 non-null   int64  \n",
      " 2   MS_SubClass      2048 non-null   int64  \n",
      " 3   MS_Zoning        2048 non-null   object \n",
      " 4   Lot_Frontage     1718 non-null   float64\n",
      " 5   Lot_Area         2048 non-null   int64  \n",
      " 6   Street           2048 non-null   object \n",
      " 7   Alley            140 non-null    object \n",
      " 8   Lot_Shape        2048 non-null   object \n",
      " 9   Land_Contour     2048 non-null   object \n",
      " 10  Utilities        2048 non-null   object \n",
      " 11  Lot_Config       2048 non-null   object \n",
      " 12  Land_Slope       2048 non-null   object \n",
      " 13  Neighborhood     2048 non-null   object \n",
      " 14  Condition_1      2048 non-null   object \n",
      " 15  Condition_2      2048 non-null   object \n",
      " 16  Bldg_Type        2048 non-null   object \n",
      " 17  House_Style      2048 non-null   object \n",
      " 18  Overall_Qual     2048 non-null   int64  \n",
      " 19  Overall_Cond     2048 non-null   int64  \n",
      " 20  Year_Built       2048 non-null   int64  \n",
      " 21  Year_Remod/Add   2048 non-null   int64  \n",
      " 22  Roof_Style       2048 non-null   object \n",
      " 23  Roof_Matl        2048 non-null   object \n",
      " 24  Exterior_1st     2048 non-null   object \n",
      " 25  Exterior_2nd     2048 non-null   object \n",
      " 26  Mas_Vnr_Type     2026 non-null   object \n",
      " 27  Mas_Vnr_Area     2026 non-null   float64\n",
      " 28  Exter_Qual       2048 non-null   object \n",
      " 29  Exter_Cond       2048 non-null   object \n",
      " 30  Foundation       2048 non-null   object \n",
      " 31  Bsmt_Qual        1995 non-null   object \n",
      " 32  Bsmt_Cond        1995 non-null   object \n",
      " 33  Bsmt_Exposure    1992 non-null   object \n",
      " 34  BsmtFin_Type_1   1995 non-null   object \n",
      " 35  BsmtFin_SF_1     2048 non-null   float64\n",
      " 36  BsmtFin_Type_2   1994 non-null   object \n",
      " 37  BsmtFin_SF_2     2048 non-null   float64\n",
      " 38  Bsmt_Unf_SF      2048 non-null   float64\n",
      " 39  Total_Bsmt_SF    2048 non-null   float64\n",
      " 40  Heating          2048 non-null   object \n",
      " 41  Heating_QC       2048 non-null   object \n",
      " 42  Central_Air      2048 non-null   object \n",
      " 43  Electrical       2048 non-null   object \n",
      " 44  1st_Flr_SF       2048 non-null   int64  \n",
      " 45  2nd_Flr_SF       2048 non-null   int64  \n",
      " 46  Low_Qual_Fin_SF  2048 non-null   int64  \n",
      " 47  Gr_Liv_Area      2048 non-null   int64  \n",
      " 48  Bsmt_Full_Bath   2048 non-null   float64\n",
      " 49  Bsmt_Half_Bath   2048 non-null   float64\n",
      " 50  Full_Bath        2048 non-null   int64  \n",
      " 51  Half_Bath        2048 non-null   int64  \n",
      " 52  Bedroom_AbvGr    2048 non-null   int64  \n",
      " 53  Kitchen_AbvGr    2048 non-null   int64  \n",
      " 54  Kitchen_Qual     2048 non-null   object \n",
      " 55  TotRms_AbvGrd    2048 non-null   int64  \n",
      " 56  Functional       2048 non-null   object \n",
      " 57  Fireplaces       2048 non-null   int64  \n",
      " 58  Fireplace_Qu     1050 non-null   object \n",
      " 59  Garage_Type      1935 non-null   object \n",
      " 60  Garage_Yr_Blt    1935 non-null   float64\n",
      " 61  Garage_Finish    1935 non-null   object \n",
      " 62  Garage_Cars      2048 non-null   float64\n",
      " 63  Garage_Area      2048 non-null   float64\n",
      " 64  Garage_Qual      1935 non-null   object \n",
      " 65  Garage_Cond      1935 non-null   object \n",
      " 66  Paved_Drive      2048 non-null   object \n",
      " 67  Wood_Deck_SF     2048 non-null   int64  \n",
      " 68  Open_Porch_SF    2048 non-null   int64  \n",
      " 69  Enclosed_Porch   2048 non-null   int64  \n",
      " 70  3Ssn_Porch       2048 non-null   int64  \n",
      " 71  Screen_Porch     2048 non-null   int64  \n",
      " 72  Pool_Area        2048 non-null   int64  \n",
      " 73  Pool_QC          9 non-null      object \n",
      " 74  Fence            398 non-null    object \n",
      " 75  Misc_Feature     65 non-null     object \n",
      " 76  Misc_Val         2048 non-null   int64  \n",
      " 77  Mo_Sold          2048 non-null   int64  \n",
      " 78  Yr_Sold          2048 non-null   int64  \n",
      " 79  Sale_Type        2048 non-null   object \n",
      " 80  SalePrice        2048 non-null   int64  \n",
      "dtypes: float64(11), int64(28), object(42)\n",
      "memory usage: 1.3+ MB\n"
     ]
    }
   ],
   "source": [
    "train.info()"
   ]
  },
  {
   "cell_type": "markdown",
   "id": "640efcd7",
   "metadata": {},
   "source": [
    "### Effect of Removing Rows\n",
    "Only 3 rows were affected by these 8 features with 1 or 2 missing values.\n",
    "\n",
    "We note that now the features on Basement with missing values still do not all have the same number of non-null values, while the features on Garage do.\n"
   ]
  },
  {
   "cell_type": "markdown",
   "id": "a6bd2059",
   "metadata": {},
   "source": [
    "## (B) More than 20% values missing"
   ]
  },
  {
   "cell_type": "code",
   "execution_count": 8,
   "id": "b2c8b99a",
   "metadata": {},
   "outputs": [
    {
     "name": "stdout",
     "output_type": "stream",
     "text": [
      "Grvl    85\n",
      "Pave    55\n",
      "Name: Alley, dtype: int64\n",
      "\n",
      "Gd    522\n",
      "TA    407\n",
      "Fa     59\n",
      "Po     31\n",
      "Ex     31\n",
      "Name: Fireplace_Qu, dtype: int64\n",
      "\n",
      "Gd    4\n",
      "Fa    2\n",
      "TA    2\n",
      "Ex    1\n",
      "Name: Pool_QC, dtype: int64\n",
      "\n",
      "MnPrv    225\n",
      "GdPrv     83\n",
      "GdWo      80\n",
      "MnWw      10\n",
      "Name: Fence, dtype: int64\n",
      "\n",
      "Shed    56\n",
      "Gar2     4\n",
      "Othr     3\n",
      "TenC     1\n",
      "Elev     1\n",
      "Name: Misc_Feature, dtype: int64\n",
      "\n"
     ]
    }
   ],
   "source": [
    "# check features with more than 20% values missing\n",
    "features_B = ['Alley', \n",
    "              'Fireplace_Qu', \n",
    "              'Pool_QC', \n",
    "              'Fence',\n",
    "              'Misc_Feature'\n",
    "             ]\n",
    "for feature in features_B:\n",
    "    print(train[feature].value_counts())\n",
    "    print()"
   ]
  },
  {
   "cell_type": "code",
   "execution_count": 9,
   "id": "d3b65214",
   "metadata": {
    "scrolled": false
   },
   "outputs": [
    {
     "name": "stdout",
     "output_type": "stream",
     "text": [
      "0    998\n",
      "Name: Fireplaces, dtype: int64\n",
      "\n",
      "0    998\n",
      "1    898\n",
      "2    145\n",
      "3      6\n",
      "4      1\n",
      "Name: Fireplaces, dtype: int64\n"
     ]
    }
   ],
   "source": [
    "# check that all Fireplace_Qu with missing values correspond to Fireplaces == 0\n",
    "print(train[train.Fireplace_Qu.isna()].Fireplaces.value_counts())\n",
    "print()\n",
    "print(train.Fireplaces.value_counts())"
   ]
  },
  {
   "cell_type": "code",
   "execution_count": 10,
   "id": "4210b93e",
   "metadata": {
    "scrolled": true
   },
   "outputs": [
    {
     "name": "stdout",
     "output_type": "stream",
     "text": [
      "0    2039\n",
      "Name: Pool_Area, dtype: int64\n",
      "\n",
      "0      2039\n",
      "519       1\n",
      "576       1\n",
      "800       1\n",
      "228       1\n",
      "480       1\n",
      "648       1\n",
      "738       1\n",
      "368       1\n",
      "561       1\n",
      "Name: Pool_Area, dtype: int64\n"
     ]
    }
   ],
   "source": [
    "# check that all Pool_QC with missing values correspond to Pool_Area == 0\n",
    "print(train[train.Pool_QC.isna()].Pool_Area.value_counts())\n",
    "print()\n",
    "print(train.Pool_Area.value_counts())"
   ]
  },
  {
   "cell_type": "markdown",
   "id": "de4b3e4b",
   "metadata": {},
   "source": [
    "### Impute Features with 'N_A'\n",
    "The reasons for the missing values are as expected, so we impute them with N_A."
   ]
  },
  {
   "cell_type": "code",
   "execution_count": 11,
   "id": "9fb239d6",
   "metadata": {},
   "outputs": [],
   "source": [
    "# impute missing values with N_A\n",
    "for feature in features_B:\n",
    "    train[feature].fillna('N_A', inplace=True)"
   ]
  },
  {
   "cell_type": "markdown",
   "id": "7bb31bdd",
   "metadata": {},
   "source": [
    "## (C) Less than 20% values missing"
   ]
  },
  {
   "cell_type": "code",
   "execution_count": 12,
   "id": "e0eb0c98",
   "metadata": {},
   "outputs": [],
   "source": [
    "# investigate features with less than 20% missing values \n",
    "features_C = ['Lot_Frontage', \n",
    "              'Mas_Vnr_Type', 'Mas_Vnr_Area', \n",
    "              'Bsmt_Qual', 'Bsmt_Cond', 'Bsmt_Exposure', 'BsmtFin_Type_1', 'BsmtFin_Type_2', \n",
    "              'Garage_Type', 'Garage_Yr_Blt', 'Garage_Finish', 'Garage_Qual', 'Garage_Cond'\n",
    "             ]"
   ]
  },
  {
   "cell_type": "markdown",
   "id": "30783486",
   "metadata": {},
   "source": [
    "### Lot Frontage\n",
    "Lot Frontage is a length in feet, so we check if there are existing values = 0 to see if the missing values should be 0 or should be imputed using regression if we want to use this feature to predict SalePrice later."
   ]
  },
  {
   "cell_type": "code",
   "execution_count": 13,
   "id": "2908a112",
   "metadata": {
    "scrolled": true
   },
   "outputs": [
    {
     "data": {
      "text/plain": [
       "53      21.0\n",
       "787     21.0\n",
       "796     21.0\n",
       "135     21.0\n",
       "1982    21.0\n",
       "        ... \n",
       "2016     NaN\n",
       "2022     NaN\n",
       "2028     NaN\n",
       "2031     NaN\n",
       "2047     NaN\n",
       "Name: Lot_Frontage, Length: 2048, dtype: float64"
      ]
     },
     "execution_count": 13,
     "metadata": {},
     "output_type": "execute_result"
    }
   ],
   "source": [
    "# investigate Lot Frontage\n",
    "train.Lot_Frontage.sort_values()"
   ]
  },
  {
   "cell_type": "code",
   "execution_count": 14,
   "id": "c1275405",
   "metadata": {
    "scrolled": true
   },
   "outputs": [
    {
     "data": {
      "image/png": "[encoded data removed]",
      "text/plain": [
       "<Figure size 432x288 with 1 Axes>"
      ]
     },
     "metadata": {
      "needs_background": "light"
     },
     "output_type": "display_data"
    }
   ],
   "source": [
    "# plot histogram of Lot Frontage of Train Data\n",
    "plt.hist(train.Lot_Frontage, bins = 30)\n",
    "plt.show()"
   ]
  },
  {
   "cell_type": "code",
   "execution_count": 15,
   "id": "ff7c894c",
   "metadata": {},
   "outputs": [
    {
     "data": {
      "text/html": [
       "<div>\n",
       "<style scoped>\n",
       "    .dataframe tbody tr th:only-of-type {\n",
       "        vertical-align: middle;\n",
       "    }\n",
       "\n",
       "    .dataframe tbody tr th {\n",
       "        vertical-align: top;\n",
       "    }\n",
       "\n",
       "    .dataframe thead th {\n",
       "        text-align: right;\n",
       "    }\n",
       "</style>\n",
       "<table border=\"1\" class=\"dataframe\">\n",
       "  <thead>\n",
       "    <tr style=\"text-align: right;\">\n",
       "      <th></th>\n",
       "      <th>Id</th>\n",
       "      <th>PID</th>\n",
       "      <th>MS_SubClass</th>\n",
       "      <th>MS_Zoning</th>\n",
       "      <th>Lot_Frontage</th>\n",
       "      <th>Lot_Area</th>\n",
       "      <th>Street</th>\n",
       "      <th>Alley</th>\n",
       "      <th>Lot_Shape</th>\n",
       "      <th>Land_Contour</th>\n",
       "      <th>...</th>\n",
       "      <th>Screen_Porch</th>\n",
       "      <th>Pool_Area</th>\n",
       "      <th>Pool_QC</th>\n",
       "      <th>Fence</th>\n",
       "      <th>Misc_Feature</th>\n",
       "      <th>Misc_Val</th>\n",
       "      <th>Mo_Sold</th>\n",
       "      <th>Yr_Sold</th>\n",
       "      <th>Sale_Type</th>\n",
       "      <th>SalePrice</th>\n",
       "    </tr>\n",
       "  </thead>\n",
       "  <tbody>\n",
       "    <tr>\n",
       "      <th>960</th>\n",
       "      <td>1499</td>\n",
       "      <td>908154235</td>\n",
       "      <td>60</td>\n",
       "      <td>RL</td>\n",
       "      <td>313.0</td>\n",
       "      <td>63887</td>\n",
       "      <td>Pave</td>\n",
       "      <td>N_A</td>\n",
       "      <td>IR3</td>\n",
       "      <td>Bnk</td>\n",
       "      <td>...</td>\n",
       "      <td>0</td>\n",
       "      <td>480</td>\n",
       "      <td>Gd</td>\n",
       "      <td>N_A</td>\n",
       "      <td>N_A</td>\n",
       "      <td>0</td>\n",
       "      <td>1</td>\n",
       "      <td>2008</td>\n",
       "      <td>New</td>\n",
       "      <td>160000</td>\n",
       "    </tr>\n",
       "    <tr>\n",
       "      <th>1335</th>\n",
       "      <td>1266</td>\n",
       "      <td>535427070</td>\n",
       "      <td>20</td>\n",
       "      <td>RL</td>\n",
       "      <td>313.0</td>\n",
       "      <td>27650</td>\n",
       "      <td>Pave</td>\n",
       "      <td>N_A</td>\n",
       "      <td>IR2</td>\n",
       "      <td>HLS</td>\n",
       "      <td>...</td>\n",
       "      <td>0</td>\n",
       "      <td>0</td>\n",
       "      <td>N_A</td>\n",
       "      <td>N_A</td>\n",
       "      <td>N_A</td>\n",
       "      <td>0</td>\n",
       "      <td>11</td>\n",
       "      <td>2008</td>\n",
       "      <td>WD</td>\n",
       "      <td>242000</td>\n",
       "    </tr>\n",
       "  </tbody>\n",
       "</table>\n",
       "<p>2 rows × 81 columns</p>\n",
       "</div>"
      ],
      "text/plain": [
       "        Id        PID  MS_SubClass MS_Zoning  Lot_Frontage  Lot_Area Street  \\\n",
       "960   1499  908154235           60        RL         313.0     63887   Pave   \n",
       "1335  1266  535427070           20        RL         313.0     27650   Pave   \n",
       "\n",
       "     Alley Lot_Shape Land_Contour  ... Screen_Porch Pool_Area Pool_QC Fence  \\\n",
       "960    N_A       IR3          Bnk  ...            0       480      Gd   N_A   \n",
       "1335   N_A       IR2          HLS  ...            0         0     N_A   N_A   \n",
       "\n",
       "     Misc_Feature Misc_Val Mo_Sold Yr_Sold  Sale_Type  SalePrice  \n",
       "960           N_A        0       1    2008        New     160000  \n",
       "1335          N_A        0      11    2008        WD      242000  \n",
       "\n",
       "[2 rows x 81 columns]"
      ]
     },
     "execution_count": 15,
     "metadata": {},
     "output_type": "execute_result"
    }
   ],
   "source": [
    "# Look at rows with large Lot Frontage\n",
    "train[train.Lot_Frontage > 200]"
   ]
  },
  {
   "cell_type": "markdown",
   "id": "4b538c11",
   "metadata": {},
   "source": [
    "There are two unusually large values exceeding 300. We see if we wish remove these outliers if the test data does not have such large values."
   ]
  },
  {
   "cell_type": "code",
   "execution_count": 16,
   "id": "2fd63e30",
   "metadata": {
    "scrolled": true
   },
   "outputs": [
    {
     "data": {
      "image/png": "[encoded data removed]",
      "text/plain": [
       "<Figure size 432x288 with 1 Axes>"
      ]
     },
     "metadata": {
      "needs_background": "light"
     },
     "output_type": "display_data"
    }
   ],
   "source": [
    "# plot histogram of Lot Frontage of Test Data\n",
    "plt.hist(test.Lot_Frontage, bins = 15)\n",
    "plt.show()"
   ]
  },
  {
   "cell_type": "code",
   "execution_count": 17,
   "id": "62630cad",
   "metadata": {},
   "outputs": [
    {
     "data": {
      "text/plain": [
       "182.0"
      ]
     },
     "execution_count": 17,
     "metadata": {},
     "output_type": "execute_result"
    }
   ],
   "source": [
    "test.Lot_Frontage.max()"
   ]
  },
  {
   "cell_type": "markdown",
   "id": "9e37465b",
   "metadata": {},
   "source": [
    "Since largest Lot Frontage in the test set is only 182.0, we remove the 2 rows with values exceeding 300."
   ]
  },
  {
   "cell_type": "code",
   "execution_count": 18,
   "id": "d253d2d7",
   "metadata": {},
   "outputs": [],
   "source": [
    "# Remove rows 960 and 1335\n",
    "train.drop(index=[960, 1335], inplace=True)"
   ]
  },
  {
   "cell_type": "markdown",
   "id": "09bda6d4",
   "metadata": {},
   "source": [
    "#### Conclusion on Lot Frontage\n",
    "There is a possibility that the missing values should be 0, though they also may really just be missing at random, so we leave them and decide only when modelling.\n",
    "\n",
    "We then look at train.info( ) again to see how many missing values we have for the remaining features to investigate."
   ]
  },
  {
   "cell_type": "code",
   "execution_count": 19,
   "id": "5eda9dd4",
   "metadata": {},
   "outputs": [
    {
     "name": "stdout",
     "output_type": "stream",
     "text": [
      "<class 'pandas.core.frame.DataFrame'>\n",
      "Int64Index: 2046 entries, 0 to 2050\n",
      "Data columns (total 81 columns):\n",
      " #   Column           Non-Null Count  Dtype  \n",
      "---  ------           --------------  -----  \n",
      " 0   Id               2046 non-null   int64  \n",
      " 1   PID              2046 non-null   int64  \n",
      " 2   MS_SubClass      2046 non-null   int64  \n",
      " 3   MS_Zoning        2046 non-null   object \n",
      " 4   Lot_Frontage     1716 non-null   float64\n",
      " 5   Lot_Area         2046 non-null   int64  \n",
      " 6   Street           2046 non-null   object \n",
      " 7   Alley            2046 non-null   object \n",
      " 8   Lot_Shape        2046 non-null   object \n",
      " 9   Land_Contour     2046 non-null   object \n",
      " 10  Utilities        2046 non-null   object \n",
      " 11  Lot_Config       2046 non-null   object \n",
      " 12  Land_Slope       2046 non-null   object \n",
      " 13  Neighborhood     2046 non-null   object \n",
      " 14  Condition_1      2046 non-null   object \n",
      " 15  Condition_2      2046 non-null   object \n",
      " 16  Bldg_Type        2046 non-null   object \n",
      " 17  House_Style      2046 non-null   object \n",
      " 18  Overall_Qual     2046 non-null   int64  \n",
      " 19  Overall_Cond     2046 non-null   int64  \n",
      " 20  Year_Built       2046 non-null   int64  \n",
      " 21  Year_Remod/Add   2046 non-null   int64  \n",
      " 22  Roof_Style       2046 non-null   object \n",
      " 23  Roof_Matl        2046 non-null   object \n",
      " 24  Exterior_1st     2046 non-null   object \n",
      " 25  Exterior_2nd     2046 non-null   object \n",
      " 26  Mas_Vnr_Type     2024 non-null   object \n",
      " 27  Mas_Vnr_Area     2024 non-null   float64\n",
      " 28  Exter_Qual       2046 non-null   object \n",
      " 29  Exter_Cond       2046 non-null   object \n",
      " 30  Foundation       2046 non-null   object \n",
      " 31  Bsmt_Qual        1993 non-null   object \n",
      " 32  Bsmt_Cond        1993 non-null   object \n",
      " 33  Bsmt_Exposure    1990 non-null   object \n",
      " 34  BsmtFin_Type_1   1993 non-null   object \n",
      " 35  BsmtFin_SF_1     2046 non-null   float64\n",
      " 36  BsmtFin_Type_2   1992 non-null   object \n",
      " 37  BsmtFin_SF_2     2046 non-null   float64\n",
      " 38  Bsmt_Unf_SF      2046 non-null   float64\n",
      " 39  Total_Bsmt_SF    2046 non-null   float64\n",
      " 40  Heating          2046 non-null   object \n",
      " 41  Heating_QC       2046 non-null   object \n",
      " 42  Central_Air      2046 non-null   object \n",
      " 43  Electrical       2046 non-null   object \n",
      " 44  1st_Flr_SF       2046 non-null   int64  \n",
      " 45  2nd_Flr_SF       2046 non-null   int64  \n",
      " 46  Low_Qual_Fin_SF  2046 non-null   int64  \n",
      " 47  Gr_Liv_Area      2046 non-null   int64  \n",
      " 48  Bsmt_Full_Bath   2046 non-null   float64\n",
      " 49  Bsmt_Half_Bath   2046 non-null   float64\n",
      " 50  Full_Bath        2046 non-null   int64  \n",
      " 51  Half_Bath        2046 non-null   int64  \n",
      " 52  Bedroom_AbvGr    2046 non-null   int64  \n",
      " 53  Kitchen_AbvGr    2046 non-null   int64  \n",
      " 54  Kitchen_Qual     2046 non-null   object \n",
      " 55  TotRms_AbvGrd    2046 non-null   int64  \n",
      " 56  Functional       2046 non-null   object \n",
      " 57  Fireplaces       2046 non-null   int64  \n",
      " 58  Fireplace_Qu     2046 non-null   object \n",
      " 59  Garage_Type      1933 non-null   object \n",
      " 60  Garage_Yr_Blt    1933 non-null   float64\n",
      " 61  Garage_Finish    1933 non-null   object \n",
      " 62  Garage_Cars      2046 non-null   float64\n",
      " 63  Garage_Area      2046 non-null   float64\n",
      " 64  Garage_Qual      1933 non-null   object \n",
      " 65  Garage_Cond      1933 non-null   object \n",
      " 66  Paved_Drive      2046 non-null   object \n",
      " 67  Wood_Deck_SF     2046 non-null   int64  \n",
      " 68  Open_Porch_SF    2046 non-null   int64  \n",
      " 69  Enclosed_Porch   2046 non-null   int64  \n",
      " 70  3Ssn_Porch       2046 non-null   int64  \n",
      " 71  Screen_Porch     2046 non-null   int64  \n",
      " 72  Pool_Area        2046 non-null   int64  \n",
      " 73  Pool_QC          2046 non-null   object \n",
      " 74  Fence            2046 non-null   object \n",
      " 75  Misc_Feature     2046 non-null   object \n",
      " 76  Misc_Val         2046 non-null   int64  \n",
      " 77  Mo_Sold          2046 non-null   int64  \n",
      " 78  Yr_Sold          2046 non-null   int64  \n",
      " 79  Sale_Type        2046 non-null   object \n",
      " 80  SalePrice        2046 non-null   int64  \n",
      "dtypes: float64(11), int64(28), object(42)\n",
      "memory usage: 1.3+ MB\n"
     ]
    }
   ],
   "source": [
    "train.info()"
   ]
  },
  {
   "cell_type": "markdown",
   "id": "e6d35f40",
   "metadata": {},
   "source": [
    "### Masonry Veneer (Type and Area)\n",
    "\n",
    "There are now 2024/2046 non-null values in these 2 features.\n",
    "\n",
    "NaN values in 'Mas Vnr Type' is likely to be None - check if non-null values has category None. We also check if 'Mas Vnr Area' has existing values = 0, and if the missing values are the same rows as the missing values in 'Mas Vnr Type'."
   ]
  },
  {
   "cell_type": "code",
   "execution_count": 20,
   "id": "98181ec7",
   "metadata": {
    "scrolled": true
   },
   "outputs": [
    {
     "data": {
      "text/plain": [
       "None       1214\n",
       "BrkFace     630\n",
       "Stone       167\n",
       "BrkCmn       13\n",
       "Name: Mas_Vnr_Type, dtype: int64"
      ]
     },
     "execution_count": 20,
     "metadata": {},
     "output_type": "execute_result"
    }
   ],
   "source": [
    "train.Mas_Vnr_Type.value_counts()"
   ]
  },
  {
   "cell_type": "code",
   "execution_count": 21,
   "id": "408d0b9c",
   "metadata": {},
   "outputs": [
    {
     "data": {
      "text/plain": [
       "None       534\n",
       "BrkFace    250\n",
       "Stone       80\n",
       "BrkCmn      12\n",
       "CBlock       1\n",
       "Name: Mas_Vnr_Type, dtype: int64"
      ]
     },
     "execution_count": 21,
     "metadata": {},
     "output_type": "execute_result"
    }
   ],
   "source": [
    "# double check Test Data\n",
    "test.Mas_Vnr_Type.value_counts()"
   ]
  },
  {
   "cell_type": "markdown",
   "id": "ce399f4b",
   "metadata": {},
   "source": [
    "In the Train Data, 'None' appears as one of the categories but 'CBlock' (Cinder Block) did not.\n",
    "\n",
    "In the Test Data, 'CBlock' also appeared, but only once. \n",
    "\n",
    "The proportion of missing data in the Train Data is 22/2046 = 1%, while the proportion of 'CBlock' in the Test Data is 1/877 = 0.1%, so it may be risky to immediately assume that the missing data should be 'CBlock'."
   ]
  },
  {
   "cell_type": "code",
   "execution_count": 22,
   "id": "acfb9547",
   "metadata": {},
   "outputs": [
    {
     "data": {
      "text/plain": [
       "0.0      1212\n",
       "120.0      11\n",
       "176.0      10\n",
       "200.0      10\n",
       "108.0       9\n",
       "         ... \n",
       "142.0       1\n",
       "215.0       1\n",
       "235.0       1\n",
       "233.0       1\n",
       "426.0       1\n",
       "Name: Mas_Vnr_Area, Length: 372, dtype: int64"
      ]
     },
     "execution_count": 22,
     "metadata": {},
     "output_type": "execute_result"
    }
   ],
   "source": [
    "train.Mas_Vnr_Area.value_counts()"
   ]
  },
  {
   "cell_type": "markdown",
   "id": "62eb10a2",
   "metadata": {},
   "source": [
    "There are only 1212 'Mas_Vnr_Area' with value 0.0 while there are 1214 'Mas_Vnr_Type' with 'None'.\n",
    "\n",
    "We explore below the area with type == None as well as type with area == 0."
   ]
  },
  {
   "cell_type": "code",
   "execution_count": 23,
   "id": "6184939d",
   "metadata": {},
   "outputs": [
    {
     "data": {
      "text/plain": [
       "Series([], Name: Mas_Vnr_Area, dtype: int64)"
      ]
     },
     "execution_count": 23,
     "metadata": {},
     "output_type": "execute_result"
    }
   ],
   "source": [
    "train[train.Mas_Vnr_Type.isnull()].Mas_Vnr_Area.value_counts()"
   ]
  },
  {
   "cell_type": "code",
   "execution_count": 24,
   "id": "4512c940",
   "metadata": {
    "scrolled": true
   },
   "outputs": [
    {
     "data": {
      "text/plain": [
       "0.0      1209\n",
       "1.0         3\n",
       "288.0       1\n",
       "344.0       1\n",
       "Name: Mas_Vnr_Area, dtype: int64"
      ]
     },
     "execution_count": 24,
     "metadata": {},
     "output_type": "execute_result"
    }
   ],
   "source": [
    "train[train.Mas_Vnr_Type == 'None'].Mas_Vnr_Area.value_counts()"
   ]
  },
  {
   "cell_type": "code",
   "execution_count": 25,
   "id": "e0099bc7",
   "metadata": {},
   "outputs": [
    {
     "data": {
      "text/plain": [
       "None       1209\n",
       "BrkFace       2\n",
       "Stone         1\n",
       "Name: Mas_Vnr_Type, dtype: int64"
      ]
     },
     "execution_count": 25,
     "metadata": {},
     "output_type": "execute_result"
    }
   ],
   "source": [
    "train[train.Mas_Vnr_Area == 0.0].Mas_Vnr_Type.value_counts()"
   ]
  },
  {
   "cell_type": "markdown",
   "id": "02a514ef",
   "metadata": {},
   "source": [
    "#### Conclusion on 'Mas_Vnr_Type' and 'Mas_Vnr_Area'\n",
    "No conclusive way of interpreting the missing values, though we may guess that the missing values in 'Mas_Vnr_Type' may be 'CBlock'. We leave the data as it is and decide when modelling if needed."
   ]
  },
  {
   "cell_type": "markdown",
   "id": "de36e8c6",
   "metadata": {},
   "source": [
    "### Basement\n",
    "'Bsmt Qual', 'Bsmt Cond', 'Bsmt Exposure', 'BsmtFin Type 1' and 'BsmtFin Type 2' all should have a category NA (No Basement). However, there are 1 and 3 more missing values respectively for 'Bsmt Exposure' and 'BsmtFin Type 2'."
   ]
  },
  {
   "cell_type": "code",
   "execution_count": 26,
   "id": "e6cc015a",
   "metadata": {},
   "outputs": [
    {
     "data": {
      "text/plain": [
       "['Bsmt_Qual', 'Bsmt_Cond', 'Bsmt_Exposure', 'BsmtFin_Type_1', 'BsmtFin_Type_2']"
      ]
     },
     "execution_count": 26,
     "metadata": {},
     "output_type": "execute_result"
    }
   ],
   "source": [
    "features_Bsmt = features_C[3:8]\n",
    "features_Bsmt"
   ]
  },
  {
   "cell_type": "code",
   "execution_count": 27,
   "id": "113c368d",
   "metadata": {
    "scrolled": true
   },
   "outputs": [
    {
     "name": "stdout",
     "output_type": "stream",
     "text": [
      "TA    887\n",
      "Gd    862\n",
      "Ex    183\n",
      "Fa     60\n",
      "Po      1\n",
      "Name: Bsmt_Qual, dtype: int64\n",
      "\n",
      "TA    1831\n",
      "Gd      89\n",
      "Fa      65\n",
      "Po       5\n",
      "Ex       3\n",
      "Name: Bsmt_Cond, dtype: int64\n",
      "\n",
      "No    1338\n",
      "Av     288\n",
      "Gd     201\n",
      "Mn     163\n",
      "Name: Bsmt_Exposure, dtype: int64\n",
      "\n",
      "GLQ    613\n",
      "Unf    603\n",
      "ALQ    292\n",
      "BLQ    200\n",
      "Rec    183\n",
      "LwQ    102\n",
      "Name: BsmtFin_Type_1, dtype: int64\n",
      "\n",
      "Unf    1746\n",
      "Rec      80\n",
      "LwQ      60\n",
      "BLQ      48\n",
      "ALQ      35\n",
      "GLQ      23\n",
      "Name: BsmtFin_Type_2, dtype: int64\n",
      "\n"
     ]
    }
   ],
   "source": [
    "for feature in features_Bsmt:\n",
    "    print(train[feature].value_counts())\n",
    "    print()"
   ]
  },
  {
   "cell_type": "markdown",
   "id": "ee5016d1",
   "metadata": {},
   "source": [
    "### Impute Basement Features with 'N_A'\n",
    "The reasons for the missing values are as expected, so we impute them with N_A."
   ]
  },
  {
   "cell_type": "code",
   "execution_count": 28,
   "id": "a31b603d",
   "metadata": {},
   "outputs": [],
   "source": [
    "# impute missing values with N_A\n",
    "for feature in features_Bsmt:\n",
    "    train[feature].fillna('N_A', inplace=True)"
   ]
  },
  {
   "cell_type": "markdown",
   "id": "23125cd1",
   "metadata": {},
   "source": [
    "Now let us look at the rows where 'Bsmt Exposure' and 'BsmtFin Type 2' are missing while other Basement Features are not missing."
   ]
  },
  {
   "cell_type": "code",
   "execution_count": 29,
   "id": "25618b9f",
   "metadata": {
    "scrolled": false
   },
   "outputs": [
    {
     "data": {
      "text/html": [
       "<div>\n",
       "<style scoped>\n",
       "    .dataframe tbody tr th:only-of-type {\n",
       "        vertical-align: middle;\n",
       "    }\n",
       "\n",
       "    .dataframe tbody tr th {\n",
       "        vertical-align: top;\n",
       "    }\n",
       "\n",
       "    .dataframe thead th {\n",
       "        text-align: right;\n",
       "    }\n",
       "</style>\n",
       "<table border=\"1\" class=\"dataframe\">\n",
       "  <thead>\n",
       "    <tr style=\"text-align: right;\">\n",
       "      <th></th>\n",
       "      <th>Bsmt_Qual</th>\n",
       "      <th>Bsmt_Cond</th>\n",
       "      <th>Bsmt_Exposure</th>\n",
       "      <th>BsmtFin_Type_1</th>\n",
       "      <th>BsmtFin_Type_2</th>\n",
       "    </tr>\n",
       "  </thead>\n",
       "  <tbody>\n",
       "    <tr>\n",
       "      <th>1147</th>\n",
       "      <td>Gd</td>\n",
       "      <td>TA</td>\n",
       "      <td>No</td>\n",
       "      <td>GLQ</td>\n",
       "      <td>N_A</td>\n",
       "    </tr>\n",
       "    <tr>\n",
       "      <th>1456</th>\n",
       "      <td>Gd</td>\n",
       "      <td>TA</td>\n",
       "      <td>N_A</td>\n",
       "      <td>Unf</td>\n",
       "      <td>Unf</td>\n",
       "    </tr>\n",
       "    <tr>\n",
       "      <th>1547</th>\n",
       "      <td>Gd</td>\n",
       "      <td>TA</td>\n",
       "      <td>N_A</td>\n",
       "      <td>Unf</td>\n",
       "      <td>Unf</td>\n",
       "    </tr>\n",
       "    <tr>\n",
       "      <th>1997</th>\n",
       "      <td>Gd</td>\n",
       "      <td>TA</td>\n",
       "      <td>N_A</td>\n",
       "      <td>Unf</td>\n",
       "      <td>Unf</td>\n",
       "    </tr>\n",
       "  </tbody>\n",
       "</table>\n",
       "</div>"
      ],
      "text/plain": [
       "     Bsmt_Qual Bsmt_Cond Bsmt_Exposure BsmtFin_Type_1 BsmtFin_Type_2\n",
       "1147        Gd        TA            No            GLQ            N_A\n",
       "1456        Gd        TA           N_A            Unf            Unf\n",
       "1547        Gd        TA           N_A            Unf            Unf\n",
       "1997        Gd        TA           N_A            Unf            Unf"
      ]
     },
     "execution_count": 29,
     "metadata": {},
     "output_type": "execute_result"
    }
   ],
   "source": [
    "train[((train.Bsmt_Exposure == 'N_A') | (train.BsmtFin_Type_2 == 'N_A')) & (train.Bsmt_Cond != 'N_A')][features_Bsmt]"
   ]
  },
  {
   "cell_type": "code",
   "execution_count": 30,
   "id": "7e16c7fa",
   "metadata": {
    "scrolled": true
   },
   "outputs": [
    {
     "data": {
      "text/plain": [
       "Unf    567\n",
       "Rec     17\n",
       "ALQ     11\n",
       "LwQ     11\n",
       "BLQ      6\n",
       "N_A      1\n",
       "Name: BsmtFin_Type_2, dtype: int64"
      ]
     },
     "execution_count": 30,
     "metadata": {},
     "output_type": "execute_result"
    }
   ],
   "source": [
    "train[train.BsmtFin_Type_1 == 'GLQ'].BsmtFin_Type_2.value_counts()"
   ]
  },
  {
   "cell_type": "code",
   "execution_count": 31,
   "id": "e1cee7a3",
   "metadata": {},
   "outputs": [
    {
     "data": {
      "text/plain": [
       "Unf    1746\n",
       "Rec      80\n",
       "LwQ      60\n",
       "N_A      54\n",
       "BLQ      48\n",
       "ALQ      35\n",
       "GLQ      23\n",
       "Name: BsmtFin_Type_2, dtype: int64"
      ]
     },
     "execution_count": 31,
     "metadata": {},
     "output_type": "execute_result"
    }
   ],
   "source": [
    "train.BsmtFin_Type_2.value_counts()"
   ]
  },
  {
   "cell_type": "markdown",
   "id": "d6e20d0f",
   "metadata": {},
   "source": [
    "#### Conclusion on Basement Features\n",
    "Row 1147 BsmtFin_Type_1 is the top grade 'Good Living Quarters', and the spread of BsmtFin_Type_2 is similar whether we filter for BsmtFin_Type_1 == 'GLQ' or not, so we cannot make a good guess on the possible BsmtFin_Type_2 for this missing value.\n",
    "\n",
    "For the other 3 rows, we also have no clue on what Bsmt_Exposure is more likely to be, so we leave all 4 rows as it is, with the missing values all imputed as 'NA'."
   ]
  },
  {
   "cell_type": "markdown",
   "id": "fdc0e26f",
   "metadata": {},
   "source": [
    "### Garage\n",
    "'Garage Type', 'Garage Finish', 'Garage Qual' and 'Garage Cond' all should have a category NA (No Garage). NaN values in 'Garage Yr Blt' is likely also for properties with No Garage."
   ]
  },
  {
   "cell_type": "code",
   "execution_count": 32,
   "id": "4278937f",
   "metadata": {},
   "outputs": [
    {
     "data": {
      "text/plain": [
       "['Garage_Type', 'Garage_Finish', 'Garage_Qual', 'Garage_Cond']"
      ]
     },
     "execution_count": 32,
     "metadata": {},
     "output_type": "execute_result"
    }
   ],
   "source": [
    "features_Garage_nominal = features_C[8:9] + features_C[10:]\n",
    "features_Garage_nominal"
   ]
  },
  {
   "cell_type": "code",
   "execution_count": 33,
   "id": "832b3b94",
   "metadata": {},
   "outputs": [
    {
     "name": "stdout",
     "output_type": "stream",
     "text": [
      "Attchd     1210\n",
      "Detchd      534\n",
      "BuiltIn     132\n",
      "Basment      27\n",
      "2Types       19\n",
      "CarPort      11\n",
      "Name: Garage_Type, dtype: int64\n",
      "\n",
      "Unf    847\n",
      "RFn    578\n",
      "Fin    508\n",
      "Name: Garage_Finish, dtype: int64\n",
      "\n",
      "TA    1828\n",
      "Fa      82\n",
      "Gd      18\n",
      "Ex       3\n",
      "Po       2\n",
      "Name: Garage_Qual, dtype: int64\n",
      "\n",
      "TA    1864\n",
      "Fa      47\n",
      "Gd      12\n",
      "Po       8\n",
      "Ex       2\n",
      "Name: Garage_Cond, dtype: int64\n",
      "\n"
     ]
    }
   ],
   "source": [
    "for feature in features_Garage_nominal:\n",
    "    print(train[feature].value_counts())\n",
    "    print()"
   ]
  },
  {
   "cell_type": "code",
   "execution_count": 34,
   "id": "1cc29521",
   "metadata": {
    "scrolled": true
   },
   "outputs": [
    {
     "data": {
      "text/plain": [
       "Series([], dtype: int64)"
      ]
     },
     "execution_count": 34,
     "metadata": {},
     "output_type": "execute_result"
    }
   ],
   "source": [
    "train[train.Garage_Yr_Blt.isna()][features_Garage_nominal].value_counts()"
   ]
  },
  {
   "cell_type": "markdown",
   "id": "b02a2c6b",
   "metadata": {},
   "source": [
    "#### Conclusion on Garage Features\n",
    "As expected, the missing values all refer to No Garage, so we impute the nominal features with 'N_A' and leave the Garage_Yr_Blt as NaN."
   ]
  },
  {
   "cell_type": "code",
   "execution_count": 35,
   "id": "ad145846",
   "metadata": {},
   "outputs": [],
   "source": [
    "# impute missing values with N_A\n",
    "for feature in features_Garage_nominal:\n",
    "    train[feature].fillna('N_A', inplace=True)"
   ]
  },
  {
   "cell_type": "markdown",
   "id": "f06b0bcc",
   "metadata": {},
   "source": [
    "### Save Cleaned Train Data\n",
    "We take one last look at our cleaned Train Data before saving it."
   ]
  },
  {
   "cell_type": "code",
   "execution_count": 36,
   "id": "2559af68",
   "metadata": {
    "scrolled": true
   },
   "outputs": [
    {
     "name": "stdout",
     "output_type": "stream",
     "text": [
      "<class 'pandas.core.frame.DataFrame'>\n",
      "Int64Index: 2046 entries, 0 to 2050\n",
      "Data columns (total 81 columns):\n",
      " #   Column           Non-Null Count  Dtype  \n",
      "---  ------           --------------  -----  \n",
      " 0   Id               2046 non-null   int64  \n",
      " 1   PID              2046 non-null   int64  \n",
      " 2   MS_SubClass      2046 non-null   int64  \n",
      " 3   MS_Zoning        2046 non-null   object \n",
      " 4   Lot_Frontage     1716 non-null   float64\n",
      " 5   Lot_Area         2046 non-null   int64  \n",
      " 6   Street           2046 non-null   object \n",
      " 7   Alley            2046 non-null   object \n",
      " 8   Lot_Shape        2046 non-null   object \n",
      " 9   Land_Contour     2046 non-null   object \n",
      " 10  Utilities        2046 non-null   object \n",
      " 11  Lot_Config       2046 non-null   object \n",
      " 12  Land_Slope       2046 non-null   object \n",
      " 13  Neighborhood     2046 non-null   object \n",
      " 14  Condition_1      2046 non-null   object \n",
      " 15  Condition_2      2046 non-null   object \n",
      " 16  Bldg_Type        2046 non-null   object \n",
      " 17  House_Style      2046 non-null   object \n",
      " 18  Overall_Qual     2046 non-null   int64  \n",
      " 19  Overall_Cond     2046 non-null   int64  \n",
      " 20  Year_Built       2046 non-null   int64  \n",
      " 21  Year_Remod/Add   2046 non-null   int64  \n",
      " 22  Roof_Style       2046 non-null   object \n",
      " 23  Roof_Matl        2046 non-null   object \n",
      " 24  Exterior_1st     2046 non-null   object \n",
      " 25  Exterior_2nd     2046 non-null   object \n",
      " 26  Mas_Vnr_Type     2024 non-null   object \n",
      " 27  Mas_Vnr_Area     2024 non-null   float64\n",
      " 28  Exter_Qual       2046 non-null   object \n",
      " 29  Exter_Cond       2046 non-null   object \n",
      " 30  Foundation       2046 non-null   object \n",
      " 31  Bsmt_Qual        2046 non-null   object \n",
      " 32  Bsmt_Cond        2046 non-null   object \n",
      " 33  Bsmt_Exposure    2046 non-null   object \n",
      " 34  BsmtFin_Type_1   2046 non-null   object \n",
      " 35  BsmtFin_SF_1     2046 non-null   float64\n",
      " 36  BsmtFin_Type_2   2046 non-null   object \n",
      " 37  BsmtFin_SF_2     2046 non-null   float64\n",
      " 38  Bsmt_Unf_SF      2046 non-null   float64\n",
      " 39  Total_Bsmt_SF    2046 non-null   float64\n",
      " 40  Heating          2046 non-null   object \n",
      " 41  Heating_QC       2046 non-null   object \n",
      " 42  Central_Air      2046 non-null   object \n",
      " 43  Electrical       2046 non-null   object \n",
      " 44  1st_Flr_SF       2046 non-null   int64  \n",
      " 45  2nd_Flr_SF       2046 non-null   int64  \n",
      " 46  Low_Qual_Fin_SF  2046 non-null   int64  \n",
      " 47  Gr_Liv_Area      2046 non-null   int64  \n",
      " 48  Bsmt_Full_Bath   2046 non-null   float64\n",
      " 49  Bsmt_Half_Bath   2046 non-null   float64\n",
      " 50  Full_Bath        2046 non-null   int64  \n",
      " 51  Half_Bath        2046 non-null   int64  \n",
      " 52  Bedroom_AbvGr    2046 non-null   int64  \n",
      " 53  Kitchen_AbvGr    2046 non-null   int64  \n",
      " 54  Kitchen_Qual     2046 non-null   object \n",
      " 55  TotRms_AbvGrd    2046 non-null   int64  \n",
      " 56  Functional       2046 non-null   object \n",
      " 57  Fireplaces       2046 non-null   int64  \n",
      " 58  Fireplace_Qu     2046 non-null   object \n",
      " 59  Garage_Type      2046 non-null   object \n",
      " 60  Garage_Yr_Blt    1933 non-null   float64\n",
      " 61  Garage_Finish    2046 non-null   object \n",
      " 62  Garage_Cars      2046 non-null   float64\n",
      " 63  Garage_Area      2046 non-null   float64\n",
      " 64  Garage_Qual      2046 non-null   object \n",
      " 65  Garage_Cond      2046 non-null   object \n",
      " 66  Paved_Drive      2046 non-null   object \n",
      " 67  Wood_Deck_SF     2046 non-null   int64  \n",
      " 68  Open_Porch_SF    2046 non-null   int64  \n",
      " 69  Enclosed_Porch   2046 non-null   int64  \n",
      " 70  3Ssn_Porch       2046 non-null   int64  \n",
      " 71  Screen_Porch     2046 non-null   int64  \n",
      " 72  Pool_Area        2046 non-null   int64  \n",
      " 73  Pool_QC          2046 non-null   object \n",
      " 74  Fence            2046 non-null   object \n",
      " 75  Misc_Feature     2046 non-null   object \n",
      " 76  Misc_Val         2046 non-null   int64  \n",
      " 77  Mo_Sold          2046 non-null   int64  \n",
      " 78  Yr_Sold          2046 non-null   int64  \n",
      " 79  Sale_Type        2046 non-null   object \n",
      " 80  SalePrice        2046 non-null   int64  \n",
      "dtypes: float64(11), int64(28), object(42)\n",
      "memory usage: 1.3+ MB\n"
     ]
    }
   ],
   "source": [
    "train.info()"
   ]
  },
  {
   "cell_type": "code",
   "execution_count": 37,
   "id": "d2456c28",
   "metadata": {
    "scrolled": true
   },
   "outputs": [],
   "source": [
    "train.to_csv('datasets/train_clean.csv', index=False)"
   ]
  },
  {
   "cell_type": "markdown",
   "id": "d4568b19",
   "metadata": {},
   "source": [
    "## Cleaning of Test Data\n",
    "We want to clean up our Test Data in the same way we did for our Train Data.\n",
    "\n",
    "We cannot remove any rows from our Test Data. We will only be imputing relevant features with 'N_A'."
   ]
  },
  {
   "cell_type": "code",
   "execution_count": 38,
   "id": "a24f864d",
   "metadata": {},
   "outputs": [],
   "source": [
    "# these are the features that we imputed with 'N_A'\n",
    "features_test = features_B + features_Bsmt + features_Garage_nominal"
   ]
  },
  {
   "cell_type": "code",
   "execution_count": 39,
   "id": "3614fe60",
   "metadata": {},
   "outputs": [],
   "source": [
    "# impute missing values with N_A\n",
    "for feature in features_test:\n",
    "    test[feature].fillna('N_A', inplace=True)"
   ]
  },
  {
   "cell_type": "markdown",
   "id": "de3447e3",
   "metadata": {},
   "source": [
    "### Save Cleaned Test Data\n",
    "We take one last look at our cleaned Test Data before saving it."
   ]
  },
  {
   "cell_type": "code",
   "execution_count": 40,
   "id": "c64c2fb0",
   "metadata": {},
   "outputs": [
    {
     "name": "stdout",
     "output_type": "stream",
     "text": [
      "<class 'pandas.core.frame.DataFrame'>\n",
      "RangeIndex: 878 entries, 0 to 877\n",
      "Data columns (total 80 columns):\n",
      " #   Column           Non-Null Count  Dtype  \n",
      "---  ------           --------------  -----  \n",
      " 0   Id               878 non-null    int64  \n",
      " 1   PID              878 non-null    int64  \n",
      " 2   MS_SubClass      878 non-null    int64  \n",
      " 3   MS_Zoning        878 non-null    object \n",
      " 4   Lot_Frontage     718 non-null    float64\n",
      " 5   Lot_Area         878 non-null    int64  \n",
      " 6   Street           878 non-null    object \n",
      " 7   Alley            878 non-null    object \n",
      " 8   Lot_Shape        878 non-null    object \n",
      " 9   Land_Contour     878 non-null    object \n",
      " 10  Utilities        878 non-null    object \n",
      " 11  Lot_Config       878 non-null    object \n",
      " 12  Land_Slope       878 non-null    object \n",
      " 13  Neighborhood     878 non-null    object \n",
      " 14  Condition_1      878 non-null    object \n",
      " 15  Condition_2      878 non-null    object \n",
      " 16  Bldg_Type        878 non-null    object \n",
      " 17  House_Style      878 non-null    object \n",
      " 18  Overall_Qual     878 non-null    int64  \n",
      " 19  Overall_Cond     878 non-null    int64  \n",
      " 20  Year_Built       878 non-null    int64  \n",
      " 21  Year_Remod/Add   878 non-null    int64  \n",
      " 22  Roof_Style       878 non-null    object \n",
      " 23  Roof_Matl        878 non-null    object \n",
      " 24  Exterior_1st     878 non-null    object \n",
      " 25  Exterior_2nd     878 non-null    object \n",
      " 26  Mas_Vnr_Type     877 non-null    object \n",
      " 27  Mas_Vnr_Area     877 non-null    float64\n",
      " 28  Exter_Qual       878 non-null    object \n",
      " 29  Exter_Cond       878 non-null    object \n",
      " 30  Foundation       878 non-null    object \n",
      " 31  Bsmt_Qual        878 non-null    object \n",
      " 32  Bsmt_Cond        878 non-null    object \n",
      " 33  Bsmt_Exposure    878 non-null    object \n",
      " 34  BsmtFin_Type_1   878 non-null    object \n",
      " 35  BsmtFin_SF_1     878 non-null    int64  \n",
      " 36  BsmtFin_Type_2   878 non-null    object \n",
      " 37  BsmtFin_SF_2     878 non-null    int64  \n",
      " 38  Bsmt_Unf_SF      878 non-null    int64  \n",
      " 39  Total_Bsmt_SF    878 non-null    int64  \n",
      " 40  Heating          878 non-null    object \n",
      " 41  Heating_QC       878 non-null    object \n",
      " 42  Central_Air      878 non-null    object \n",
      " 43  Electrical       877 non-null    object \n",
      " 44  1st_Flr_SF       878 non-null    int64  \n",
      " 45  2nd_Flr_SF       878 non-null    int64  \n",
      " 46  Low_Qual_Fin_SF  878 non-null    int64  \n",
      " 47  Gr_Liv_Area      878 non-null    int64  \n",
      " 48  Bsmt_Full_Bath   878 non-null    int64  \n",
      " 49  Bsmt_Half_Bath   878 non-null    int64  \n",
      " 50  Full_Bath        878 non-null    int64  \n",
      " 51  Half_Bath        878 non-null    int64  \n",
      " 52  Bedroom_AbvGr    878 non-null    int64  \n",
      " 53  Kitchen_AbvGr    878 non-null    int64  \n",
      " 54  Kitchen_Qual     878 non-null    object \n",
      " 55  TotRms_AbvGrd    878 non-null    int64  \n",
      " 56  Functional       878 non-null    object \n",
      " 57  Fireplaces       878 non-null    int64  \n",
      " 58  Fireplace_Qu     878 non-null    object \n",
      " 59  Garage_Type      878 non-null    object \n",
      " 60  Garage_Yr_Blt    833 non-null    float64\n",
      " 61  Garage_Finish    878 non-null    object \n",
      " 62  Garage_Cars      878 non-null    int64  \n",
      " 63  Garage_Area      878 non-null    int64  \n",
      " 64  Garage_Qual      878 non-null    object \n",
      " 65  Garage_Cond      878 non-null    object \n",
      " 66  Paved_Drive      878 non-null    object \n",
      " 67  Wood_Deck_SF     878 non-null    int64  \n",
      " 68  Open_Porch_SF    878 non-null    int64  \n",
      " 69  Enclosed_Porch   878 non-null    int64  \n",
      " 70  3Ssn_Porch       878 non-null    int64  \n",
      " 71  Screen_Porch     878 non-null    int64  \n",
      " 72  Pool_Area        878 non-null    int64  \n",
      " 73  Pool_QC          878 non-null    object \n",
      " 74  Fence            878 non-null    object \n",
      " 75  Misc_Feature     878 non-null    object \n",
      " 76  Misc_Val         878 non-null    int64  \n",
      " 77  Mo_Sold          878 non-null    int64  \n",
      " 78  Yr_Sold          878 non-null    int64  \n",
      " 79  Sale_Type        878 non-null    object \n",
      "dtypes: float64(3), int64(35), object(42)\n",
      "memory usage: 548.9+ KB\n"
     ]
    }
   ],
   "source": [
    "test.info()"
   ]
  },
  {
   "cell_type": "code",
   "execution_count": 41,
   "id": "a45d83eb",
   "metadata": {},
   "outputs": [],
   "source": [
    "test.to_csv('datasets/test_clean.csv', index=False)"
   ]
  }
 ],
 "metadata": {
  "kernelspec": {
   "display_name": "Python 3 (ipykernel)",
   "language": "python",
   "name": "python3"
  },
  "language_info": {
   "codemirror_mode": {
    "name": "ipython",
    "version": 3
   },
   "file_extension": ".py",
   "mimetype": "text/x-python",
   "name": "python",
   "nbconvert_exporter": "python",
   "pygments_lexer": "ipython3",
   "version": "3.8.12"
  }
 },
 "nbformat": 4,
 "nbformat_minor": 5
}
