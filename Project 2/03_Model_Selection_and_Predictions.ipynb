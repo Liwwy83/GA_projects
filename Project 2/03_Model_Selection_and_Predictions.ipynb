{
 "cells": [
  {
   "cell_type": "markdown",
   "id": "72957c31",
   "metadata": {},
   "source": [
    "# (3) Model Selection and Predictions\n",
    "In this notebook, we will choose our model, generate our predictions and make some recommendations to improve the sale price."
   ]
  },
  {
   "cell_type": "code",
   "execution_count": 1,
   "id": "316286ca",
   "metadata": {},
   "outputs": [],
   "source": [
    "# ignore warnings\n",
    "import warnings\n",
    "warnings.filterwarnings(\"ignore\")"
   ]
  },
  {
   "cell_type": "code",
   "execution_count": 2,
   "id": "b96b3108",
   "metadata": {},
   "outputs": [],
   "source": [
    "# imports\n",
    "import pandas as pd\n",
    "import numpy as np\n",
    "\n",
    "from sklearn.model_selection import cross_val_score\n",
    "from sklearn.linear_model import LinearRegression, LassoCV, RidgeCV\n",
    "from sklearn.preprocessing import StandardScaler, PowerTransformer\n",
    "from sklearn.metrics import mean_squared_error"
   ]
  },
  {
   "cell_type": "code",
   "execution_count": 3,
   "id": "4100fad2",
   "metadata": {},
   "outputs": [
    {
     "data": {
      "text/html": [
       "<div>\n",
       "<style scoped>\n",
       "    .dataframe tbody tr th:only-of-type {\n",
       "        vertical-align: middle;\n",
       "    }\n",
       "\n",
       "    .dataframe tbody tr th {\n",
       "        vertical-align: top;\n",
       "    }\n",
       "\n",
       "    .dataframe thead th {\n",
       "        text-align: right;\n",
       "    }\n",
       "</style>\n",
       "<table border=\"1\" class=\"dataframe\">\n",
       "  <thead>\n",
       "    <tr style=\"text-align: right;\">\n",
       "      <th></th>\n",
       "      <th>Total_Bsmt_SF</th>\n",
       "      <th>Gr_Liv_Area</th>\n",
       "      <th>Garage_Area</th>\n",
       "      <th>Year_Built</th>\n",
       "      <th>Year_Remod/Add</th>\n",
       "      <th>Mas_Vnr_Area</th>\n",
       "      <th>Full_Bath</th>\n",
       "      <th>BsmtFin_SF_1</th>\n",
       "      <th>Overall_Qual</th>\n",
       "      <th>Exter_Qual</th>\n",
       "      <th>...</th>\n",
       "      <th>Fireplace_Qu</th>\n",
       "      <th>Garage_Finish</th>\n",
       "      <th>Bsmt_Exposure</th>\n",
       "      <th>Heating_QC</th>\n",
       "      <th>MS_SubClass</th>\n",
       "      <th>Foundation</th>\n",
       "      <th>Garage_Type</th>\n",
       "      <th>Neighborhood_High</th>\n",
       "      <th>Neighborhood_Low</th>\n",
       "      <th>SalePrice</th>\n",
       "    </tr>\n",
       "  </thead>\n",
       "  <tbody>\n",
       "    <tr>\n",
       "      <th>0</th>\n",
       "      <td>725.0</td>\n",
       "      <td>1479</td>\n",
       "      <td>475.0</td>\n",
       "      <td>1976</td>\n",
       "      <td>2005</td>\n",
       "      <td>289.0</td>\n",
       "      <td>2</td>\n",
       "      <td>533.0</td>\n",
       "      <td>6.0</td>\n",
       "      <td>1</td>\n",
       "      <td>...</td>\n",
       "      <td>0</td>\n",
       "      <td>2</td>\n",
       "      <td>0</td>\n",
       "      <td>2</td>\n",
       "      <td>1</td>\n",
       "      <td>0</td>\n",
       "      <td>1</td>\n",
       "      <td>0</td>\n",
       "      <td>0</td>\n",
       "      <td>130500</td>\n",
       "    </tr>\n",
       "    <tr>\n",
       "      <th>1</th>\n",
       "      <td>913.0</td>\n",
       "      <td>2122</td>\n",
       "      <td>559.0</td>\n",
       "      <td>1996</td>\n",
       "      <td>1997</td>\n",
       "      <td>132.0</td>\n",
       "      <td>2</td>\n",
       "      <td>637.0</td>\n",
       "      <td>7.0</td>\n",
       "      <td>1</td>\n",
       "      <td>...</td>\n",
       "      <td>2</td>\n",
       "      <td>2</td>\n",
       "      <td>0</td>\n",
       "      <td>2</td>\n",
       "      <td>1</td>\n",
       "      <td>1</td>\n",
       "      <td>1</td>\n",
       "      <td>0</td>\n",
       "      <td>0</td>\n",
       "      <td>220000</td>\n",
       "    </tr>\n",
       "    <tr>\n",
       "      <th>2</th>\n",
       "      <td>1057.0</td>\n",
       "      <td>1057</td>\n",
       "      <td>246.0</td>\n",
       "      <td>1953</td>\n",
       "      <td>2007</td>\n",
       "      <td>0.0</td>\n",
       "      <td>1</td>\n",
       "      <td>731.0</td>\n",
       "      <td>5.0</td>\n",
       "      <td>0</td>\n",
       "      <td>...</td>\n",
       "      <td>0</td>\n",
       "      <td>1</td>\n",
       "      <td>0</td>\n",
       "      <td>0</td>\n",
       "      <td>1</td>\n",
       "      <td>0</td>\n",
       "      <td>0</td>\n",
       "      <td>0</td>\n",
       "      <td>0</td>\n",
       "      <td>109000</td>\n",
       "    </tr>\n",
       "    <tr>\n",
       "      <th>3</th>\n",
       "      <td>384.0</td>\n",
       "      <td>1444</td>\n",
       "      <td>400.0</td>\n",
       "      <td>2006</td>\n",
       "      <td>2007</td>\n",
       "      <td>0.0</td>\n",
       "      <td>2</td>\n",
       "      <td>0.0</td>\n",
       "      <td>5.0</td>\n",
       "      <td>0</td>\n",
       "      <td>...</td>\n",
       "      <td>0</td>\n",
       "      <td>3</td>\n",
       "      <td>0</td>\n",
       "      <td>1</td>\n",
       "      <td>1</td>\n",
       "      <td>1</td>\n",
       "      <td>1</td>\n",
       "      <td>0</td>\n",
       "      <td>0</td>\n",
       "      <td>174000</td>\n",
       "    </tr>\n",
       "    <tr>\n",
       "      <th>4</th>\n",
       "      <td>676.0</td>\n",
       "      <td>1445</td>\n",
       "      <td>484.0</td>\n",
       "      <td>1900</td>\n",
       "      <td>1993</td>\n",
       "      <td>0.0</td>\n",
       "      <td>2</td>\n",
       "      <td>0.0</td>\n",
       "      <td>6.0</td>\n",
       "      <td>0</td>\n",
       "      <td>...</td>\n",
       "      <td>0</td>\n",
       "      <td>1</td>\n",
       "      <td>0</td>\n",
       "      <td>0</td>\n",
       "      <td>0</td>\n",
       "      <td>1</td>\n",
       "      <td>0</td>\n",
       "      <td>0</td>\n",
       "      <td>0</td>\n",
       "      <td>138500</td>\n",
       "    </tr>\n",
       "  </tbody>\n",
       "</table>\n",
       "<p>5 rows × 22 columns</p>\n",
       "</div>"
      ],
      "text/plain": [
       "   Total_Bsmt_SF  Gr_Liv_Area  Garage_Area  Year_Built  Year_Remod/Add  \\\n",
       "0          725.0         1479        475.0        1976            2005   \n",
       "1          913.0         2122        559.0        1996            1997   \n",
       "2         1057.0         1057        246.0        1953            2007   \n",
       "3          384.0         1444        400.0        2006            2007   \n",
       "4          676.0         1445        484.0        1900            1993   \n",
       "\n",
       "   Mas_Vnr_Area  Full_Bath  BsmtFin_SF_1  Overall_Qual  Exter_Qual  ...  \\\n",
       "0         289.0          2         533.0           6.0           1  ...   \n",
       "1         132.0          2         637.0           7.0           1  ...   \n",
       "2           0.0          1         731.0           5.0           0  ...   \n",
       "3           0.0          2           0.0           5.0           0  ...   \n",
       "4           0.0          2           0.0           6.0           0  ...   \n",
       "\n",
       "   Fireplace_Qu  Garage_Finish  Bsmt_Exposure  Heating_QC  MS_SubClass  \\\n",
       "0             0              2              0           2            1   \n",
       "1             2              2              0           2            1   \n",
       "2             0              1              0           0            1   \n",
       "3             0              3              0           1            1   \n",
       "4             0              1              0           0            0   \n",
       "\n",
       "   Foundation  Garage_Type  Neighborhood_High  Neighborhood_Low  SalePrice  \n",
       "0           0            1                  0                 0     130500  \n",
       "1           1            1                  0                 0     220000  \n",
       "2           0            0                  0                 0     109000  \n",
       "3           1            1                  0                 0     174000  \n",
       "4           1            0                  0                 0     138500  \n",
       "\n",
       "[5 rows x 22 columns]"
      ]
     },
     "execution_count": 3,
     "metadata": {},
     "output_type": "execute_result"
    }
   ],
   "source": [
    "# load datasets\n",
    "train = pd.read_csv('datasets/train_sel.csv')\n",
    "test = pd.read_csv('datasets/test_sel.csv')\n",
    "\n",
    "# check data loaded correctly\n",
    "train.head()"
   ]
  },
  {
   "cell_type": "code",
   "execution_count": 4,
   "id": "ca2d675c",
   "metadata": {},
   "outputs": [
    {
     "data": {
      "text/html": [
       "<div>\n",
       "<style scoped>\n",
       "    .dataframe tbody tr th:only-of-type {\n",
       "        vertical-align: middle;\n",
       "    }\n",
       "\n",
       "    .dataframe tbody tr th {\n",
       "        vertical-align: top;\n",
       "    }\n",
       "\n",
       "    .dataframe thead th {\n",
       "        text-align: right;\n",
       "    }\n",
       "</style>\n",
       "<table border=\"1\" class=\"dataframe\">\n",
       "  <thead>\n",
       "    <tr style=\"text-align: right;\">\n",
       "      <th></th>\n",
       "      <th>Id</th>\n",
       "      <th>Total_Bsmt_SF</th>\n",
       "      <th>Gr_Liv_Area</th>\n",
       "      <th>Garage_Area</th>\n",
       "      <th>Year_Built</th>\n",
       "      <th>Year_Remod/Add</th>\n",
       "      <th>Mas_Vnr_Area</th>\n",
       "      <th>Full_Bath</th>\n",
       "      <th>BsmtFin_SF_1</th>\n",
       "      <th>Overall_Qual</th>\n",
       "      <th>...</th>\n",
       "      <th>Kitchen_Qual</th>\n",
       "      <th>Fireplace_Qu</th>\n",
       "      <th>Garage_Finish</th>\n",
       "      <th>Bsmt_Exposure</th>\n",
       "      <th>Heating_QC</th>\n",
       "      <th>MS_SubClass</th>\n",
       "      <th>Foundation</th>\n",
       "      <th>Garage_Type</th>\n",
       "      <th>Neighborhood_High</th>\n",
       "      <th>Neighborhood_Low</th>\n",
       "    </tr>\n",
       "  </thead>\n",
       "  <tbody>\n",
       "    <tr>\n",
       "      <th>0</th>\n",
       "      <td>2658</td>\n",
       "      <td>1020</td>\n",
       "      <td>1928</td>\n",
       "      <td>440</td>\n",
       "      <td>1910</td>\n",
       "      <td>1950</td>\n",
       "      <td>0.0</td>\n",
       "      <td>2</td>\n",
       "      <td>0</td>\n",
       "      <td>6.0</td>\n",
       "      <td>...</td>\n",
       "      <td>0</td>\n",
       "      <td>0</td>\n",
       "      <td>1</td>\n",
       "      <td>0</td>\n",
       "      <td>1</td>\n",
       "      <td>0</td>\n",
       "      <td>0</td>\n",
       "      <td>0</td>\n",
       "      <td>0</td>\n",
       "      <td>1</td>\n",
       "    </tr>\n",
       "    <tr>\n",
       "      <th>1</th>\n",
       "      <td>2718</td>\n",
       "      <td>1967</td>\n",
       "      <td>1967</td>\n",
       "      <td>580</td>\n",
       "      <td>1977</td>\n",
       "      <td>1977</td>\n",
       "      <td>0.0</td>\n",
       "      <td>2</td>\n",
       "      <td>0</td>\n",
       "      <td>5.0</td>\n",
       "      <td>...</td>\n",
       "      <td>0</td>\n",
       "      <td>0</td>\n",
       "      <td>3</td>\n",
       "      <td>0</td>\n",
       "      <td>0</td>\n",
       "      <td>0</td>\n",
       "      <td>0</td>\n",
       "      <td>1</td>\n",
       "      <td>0</td>\n",
       "      <td>0</td>\n",
       "    </tr>\n",
       "    <tr>\n",
       "      <th>2</th>\n",
       "      <td>2414</td>\n",
       "      <td>654</td>\n",
       "      <td>1496</td>\n",
       "      <td>426</td>\n",
       "      <td>2006</td>\n",
       "      <td>2006</td>\n",
       "      <td>0.0</td>\n",
       "      <td>2</td>\n",
       "      <td>554</td>\n",
       "      <td>7.0</td>\n",
       "      <td>...</td>\n",
       "      <td>1</td>\n",
       "      <td>3</td>\n",
       "      <td>2</td>\n",
       "      <td>2</td>\n",
       "      <td>2</td>\n",
       "      <td>1</td>\n",
       "      <td>1</td>\n",
       "      <td>1</td>\n",
       "      <td>0</td>\n",
       "      <td>0</td>\n",
       "    </tr>\n",
       "    <tr>\n",
       "      <th>3</th>\n",
       "      <td>1989</td>\n",
       "      <td>968</td>\n",
       "      <td>968</td>\n",
       "      <td>480</td>\n",
       "      <td>1923</td>\n",
       "      <td>2006</td>\n",
       "      <td>0.0</td>\n",
       "      <td>1</td>\n",
       "      <td>0</td>\n",
       "      <td>5.0</td>\n",
       "      <td>...</td>\n",
       "      <td>0</td>\n",
       "      <td>0</td>\n",
       "      <td>1</td>\n",
       "      <td>0</td>\n",
       "      <td>0</td>\n",
       "      <td>0</td>\n",
       "      <td>0</td>\n",
       "      <td>0</td>\n",
       "      <td>0</td>\n",
       "      <td>1</td>\n",
       "    </tr>\n",
       "    <tr>\n",
       "      <th>4</th>\n",
       "      <td>625</td>\n",
       "      <td>1394</td>\n",
       "      <td>1394</td>\n",
       "      <td>514</td>\n",
       "      <td>1963</td>\n",
       "      <td>1963</td>\n",
       "      <td>247.0</td>\n",
       "      <td>1</td>\n",
       "      <td>609</td>\n",
       "      <td>6.0</td>\n",
       "      <td>...</td>\n",
       "      <td>0</td>\n",
       "      <td>3</td>\n",
       "      <td>2</td>\n",
       "      <td>0</td>\n",
       "      <td>1</td>\n",
       "      <td>1</td>\n",
       "      <td>0</td>\n",
       "      <td>1</td>\n",
       "      <td>0</td>\n",
       "      <td>0</td>\n",
       "    </tr>\n",
       "  </tbody>\n",
       "</table>\n",
       "<p>5 rows × 22 columns</p>\n",
       "</div>"
      ],
      "text/plain": [
       "     Id  Total_Bsmt_SF  Gr_Liv_Area  Garage_Area  Year_Built  Year_Remod/Add  \\\n",
       "0  2658           1020         1928          440        1910            1950   \n",
       "1  2718           1967         1967          580        1977            1977   \n",
       "2  2414            654         1496          426        2006            2006   \n",
       "3  1989            968          968          480        1923            2006   \n",
       "4   625           1394         1394          514        1963            1963   \n",
       "\n",
       "   Mas_Vnr_Area  Full_Bath  BsmtFin_SF_1  Overall_Qual  ...  Kitchen_Qual  \\\n",
       "0           0.0          2             0           6.0  ...             0   \n",
       "1           0.0          2             0           5.0  ...             0   \n",
       "2           0.0          2           554           7.0  ...             1   \n",
       "3           0.0          1             0           5.0  ...             0   \n",
       "4         247.0          1           609           6.0  ...             0   \n",
       "\n",
       "   Fireplace_Qu  Garage_Finish  Bsmt_Exposure  Heating_QC  MS_SubClass  \\\n",
       "0             0              1              0           1            0   \n",
       "1             0              3              0           0            0   \n",
       "2             3              2              2           2            1   \n",
       "3             0              1              0           0            0   \n",
       "4             3              2              0           1            1   \n",
       "\n",
       "   Foundation  Garage_Type  Neighborhood_High  Neighborhood_Low  \n",
       "0           0            0                  0                 1  \n",
       "1           0            1                  0                 0  \n",
       "2           1            1                  0                 0  \n",
       "3           0            0                  0                 1  \n",
       "4           0            1                  0                 0  \n",
       "\n",
       "[5 rows x 22 columns]"
      ]
     },
     "execution_count": 4,
     "metadata": {},
     "output_type": "execute_result"
    }
   ],
   "source": [
    "test.head()"
   ]
  },
  {
   "cell_type": "code",
   "execution_count": 5,
   "id": "69537dd2",
   "metadata": {},
   "outputs": [],
   "source": [
    "# create X dataframe for features and y series for target\n",
    "X_train = train.drop(columns=['SalePrice'])\n",
    "y_train = train.SalePrice\n",
    "\n",
    "X_test = test.drop(columns=['Id'])"
   ]
  },
  {
   "cell_type": "code",
   "execution_count": 6,
   "id": "01bd3ca8",
   "metadata": {},
   "outputs": [],
   "source": [
    "# instantiate models\n",
    "lr = LinearRegression()\n",
    "lasso = LassoCV(n_alphas=100)\n",
    "ridge = RidgeCV(alphas=np.linspace(0.1, 10, 100))"
   ]
  },
  {
   "cell_type": "code",
   "execution_count": 7,
   "id": "b4e5df83",
   "metadata": {},
   "outputs": [],
   "source": [
    "# create functions to print cross_val_score for various models with or without scaling\n",
    "\n",
    "# for default r2\n",
    "def print_cvs_R2(X, y):\n",
    "    print('R2 scores')\n",
    "    for model in [lr, lasso, ridge]:\n",
    "        print(f'{str(model)[:7]}: {cross_val_score(model, X, y, cv=10).mean()}')\n",
    "        \n",
    "# for RMSE\n",
    "def print_cvs_RMSE(X, y):\n",
    "    print('RMSE scores')\n",
    "    for model in [lr, lasso, ridge]:\n",
    "        print(f'{str(model)[:7]}: {-cross_val_score(model, X, y, cv=10, scoring = \"neg_root_mean_squared_error\").mean()}')"
   ]
  },
  {
   "cell_type": "markdown",
   "id": "b3461558",
   "metadata": {},
   "source": [
    "## Model Selection"
   ]
  },
  {
   "cell_type": "markdown",
   "id": "79f044d0",
   "metadata": {},
   "source": [
    "### (A) Without Scaling"
   ]
  },
  {
   "cell_type": "code",
   "execution_count": 8,
   "id": "bde8d85f",
   "metadata": {
    "scrolled": true
   },
   "outputs": [
    {
     "name": "stdout",
     "output_type": "stream",
     "text": [
      "R2 scores\n",
      "LinearR: 0.8795229053598742\n",
      "LassoCV: 0.8156379562451843\n",
      "RidgeCV: 0.8795542150198011\n",
      "\n",
      "RMSE scores\n",
      "LinearR: 27423.702267818106\n",
      "LassoCV: 33896.19733439856\n",
      "RidgeCV: 27421.440098937495\n"
     ]
    }
   ],
   "source": [
    "print_cvs_R2(X_train, y_train)\n",
    "print()\n",
    "print_cvs_RMSE(X_train, y_train)"
   ]
  },
  {
   "cell_type": "markdown",
   "id": "2439755d",
   "metadata": {},
   "source": [
    "### (B) Standard Scaler"
   ]
  },
  {
   "cell_type": "code",
   "execution_count": 9,
   "id": "174e0bfc",
   "metadata": {
    "scrolled": true
   },
   "outputs": [],
   "source": [
    "ss = StandardScaler()\n",
    "X_train_ss = ss.fit_transform(X_train)\n",
    "X_test_ss = ss.fit_transform(X_test)"
   ]
  },
  {
   "cell_type": "code",
   "execution_count": 10,
   "id": "cd4d34f8",
   "metadata": {},
   "outputs": [
    {
     "name": "stdout",
     "output_type": "stream",
     "text": [
      "R2 scores\n",
      "LinearR: 0.8795229053598741\n",
      "LassoCV: 0.8796686766268358\n",
      "RidgeCV: 0.8795649106949066\n",
      "\n",
      "RMSE scores\n",
      "LinearR: 27423.702267818106\n",
      "LassoCV: 27407.067805104434\n",
      "RidgeCV: 27419.350038541288\n"
     ]
    }
   ],
   "source": [
    "print_cvs_R2(X_train_ss, y_train)\n",
    "print()\n",
    "print_cvs_RMSE(X_train_ss, y_train)"
   ]
  },
  {
   "cell_type": "markdown",
   "id": "397c2956",
   "metadata": {},
   "source": [
    "### (C) Power Transform"
   ]
  },
  {
   "cell_type": "code",
   "execution_count": 11,
   "id": "e4602706",
   "metadata": {},
   "outputs": [],
   "source": [
    "pt = PowerTransformer()\n",
    "\n",
    "X_train_pt = pt.fit_transform(X_train)\n",
    "X_test_pt = pt.fit_transform(X_test)\n",
    "\n",
    "# fit target values to Power Transform here so we can use pt.inverse_transform directly subsequently\n",
    "pt.fit(y_train.to_frame())\n",
    "\n",
    "y_train_pt = pt.transform(y_train.to_frame())"
   ]
  },
  {
   "cell_type": "code",
   "execution_count": 12,
   "id": "3c527bd7",
   "metadata": {},
   "outputs": [
    {
     "name": "stdout",
     "output_type": "stream",
     "text": [
      "R2 scores\n",
      "LinearR: 0.8806678157166387\n",
      "LassoCV: 0.8811487671811795\n",
      "RidgeCV: 0.8807186991862677\n",
      "\n",
      "RMSE scores\n",
      "LinearR: 0.342994192332366\n",
      "LassoCV: 0.342213237353865\n",
      "RidgeCV: 0.3428999927087064\n"
     ]
    }
   ],
   "source": [
    "print_cvs_R2(X_train_pt, y_train_pt)\n",
    "print()\n",
    "print_cvs_RMSE(X_train_pt, y_train_pt)"
   ]
  },
  {
   "cell_type": "markdown",
   "id": "2fb14c5c",
   "metadata": {},
   "source": [
    "### Interpreting RMSE scores\n",
    "The RMSE scores with Power Transform are way smaller than without transformation as we scaled the target values. We will calculate the actual values in the cell below."
   ]
  },
  {
   "cell_type": "code",
   "execution_count": 13,
   "id": "06a00fe9",
   "metadata": {},
   "outputs": [
    {
     "name": "stdout",
     "output_type": "stream",
     "text": [
      "LinearR: 25148.105660108253\n",
      "LassoCV: 25361.468682187715\n",
      "RidgeCV: 25182.721415123375\n"
     ]
    }
   ],
   "source": [
    "def get_RMSE(model):\n",
    "    model.fit(X_train_pt, y_train_pt)\n",
    "    model_preds_pt = model.predict(X_train_pt)\n",
    "    model_preds = pt.inverse_transform(model_preds_pt.reshape(-1, 1))\n",
    "    return mean_squared_error(y_train, model_preds) ** 0.5\n",
    "\n",
    "for model in [lr, lasso, ridge]:\n",
    "    print(f'{str(model)[:7]}: {get_RMSE(model)}')"
   ]
  },
  {
   "cell_type": "markdown",
   "id": "7a0eb6e7",
   "metadata": {},
   "source": [
    "### Model Selected\n",
    "The models with Power Transform have the best scores for both R2 and RMSE. Amongst the 3 models, Linear Regression performs slightly better, so we expect it to give the best score for Kaggle.\n",
    "\n",
    "However, it is difficult to interpret the coefficients of the model after Power Transform, so we will also work on Linear Regression without Power Transform (both with and without Standard Scaling) and interpret the coefficients from these models."
   ]
  },
  {
   "cell_type": "markdown",
   "id": "556d4c85",
   "metadata": {},
   "source": [
    "## Generating Predictions using Linear Regression\n",
    "We will generate predictions on Test Data for Kaggle submissions."
   ]
  },
  {
   "cell_type": "code",
   "execution_count": 14,
   "id": "6dd32cc3",
   "metadata": {},
   "outputs": [],
   "source": [
    "# create function to get predictions\n",
    "\n",
    "def get_pred(model, X_train, y_train, X_test):\n",
    "    # fit model\n",
    "    model.fit(X_train, y_train)\n",
    "    \n",
    "    # get predictions\n",
    "    preds = lr.predict(X_test)\n",
    "    \n",
    "    return preds"
   ]
  },
  {
   "cell_type": "markdown",
   "id": "651c4a40",
   "metadata": {},
   "source": [
    "### (A) Without Scaling"
   ]
  },
  {
   "cell_type": "code",
   "execution_count": 15,
   "id": "593203a9",
   "metadata": {},
   "outputs": [],
   "source": [
    "# get_pred\n",
    "preds_test = get_pred(lr, X_train, y_train, X_test)\n",
    "\n",
    "# create DataFrame in format required\n",
    "submission = pd.DataFrame(zip(test.Id, preds_test), columns=['Id', 'SalePrice']).sort_values('Id')\n",
    "\n",
    "# save to csv\n",
    "submission.to_csv('datasets/preds.csv', index=False)"
   ]
  },
  {
   "cell_type": "markdown",
   "id": "6baa90d3",
   "metadata": {},
   "source": [
    "### (B) Standard Scaler"
   ]
  },
  {
   "cell_type": "code",
   "execution_count": 16,
   "id": "b5e31f09",
   "metadata": {},
   "outputs": [],
   "source": [
    "# get_pred\n",
    "preds_test_ss = get_pred(lr, X_train_ss, y_train, X_test_ss)\n",
    "\n",
    "# create DataFrame in format required\n",
    "submission_ss = pd.DataFrame(zip(test.Id, preds_test_ss), columns=['Id', 'SalePrice']).sort_values('Id')\n",
    "\n",
    "# save to csv\n",
    "submission_ss.to_csv('datasets/preds_ss.csv', index=False)"
   ]
  },
  {
   "cell_type": "markdown",
   "id": "f50590ca",
   "metadata": {},
   "source": [
    "### (C) Power Transform"
   ]
  },
  {
   "cell_type": "code",
   "execution_count": 17,
   "id": "3c61de1b",
   "metadata": {},
   "outputs": [],
   "source": [
    "# get predictions\n",
    "preds_test_pt = get_pred(lr, X_train_pt, y_train_pt, X_test_pt)\n",
    "\n",
    "# inverse transform to get SalePrice\n",
    "preds_test = pt.inverse_transform(preds_test_pt.reshape(-1, 1))\n",
    "\n",
    "# create DataFrame in format required by Kaggle\n",
    "submission_pt = pd.DataFrame(zip(test.Id, preds_test[:,0]), columns=['Id', 'SalePrice']).sort_values('Id')\n",
    "\n",
    "# save to csv\n",
    "submission_pt.to_csv('datasets/preds_pt.csv', index=False)"
   ]
  },
  {
   "cell_type": "markdown",
   "id": "22d48913",
   "metadata": {},
   "source": [
    "### Kaggle Scores\n",
    "\n",
    "|Scaling Method|None|Standard Scaler|Power Transform|\n",
    "|---|---|---|---|\n",
    "|Private|24813.43949|25191.36174|23599.10771|\n",
    "|Public|31111.93853|31358.58896|29682.66232|\n",
    "\n",
    "As expected, Power Transform gave the best scores."
   ]
  },
  {
   "cell_type": "markdown",
   "id": "24f67bda",
   "metadata": {},
   "source": [
    "## Evaluating and Interpreting the Models"
   ]
  },
  {
   "cell_type": "code",
   "execution_count": 18,
   "id": "1732716a",
   "metadata": {},
   "outputs": [],
   "source": [
    "def get_coef_intercept(model, X, y):\n",
    "    lr.fit(X, y)\n",
    "    display(pd.Series(lr.coef_, X_train.columns).sort_values())\n",
    "    print(f'Model Intercept: {lr.intercept_}')"
   ]
  },
  {
   "cell_type": "markdown",
   "id": "f9b872d7",
   "metadata": {},
   "source": [
    "### (A) Without Scaling"
   ]
  },
  {
   "cell_type": "code",
   "execution_count": 19,
   "id": "0d513f9c",
   "metadata": {},
   "outputs": [
    {
     "data": {
      "text/plain": [
       "Full_Bath            -4077.486430\n",
       "Neighborhood_Low     -3283.097101\n",
       "Garage_Type          -2091.483720\n",
       "Exter_Qual            -836.451071\n",
       "Year_Built              -8.738143\n",
       "Total_Bsmt_SF           18.288548\n",
       "BsmtFin_SF_1            21.816107\n",
       "Mas_Vnr_Area            27.459564\n",
       "Garage_Area             32.149993\n",
       "Gr_Liv_Area             55.900924\n",
       "Year_Remod/Add         158.048126\n",
       "Garage_Finish         1032.229992\n",
       "Foundation            2163.907765\n",
       "Fireplace_Qu          2918.696949\n",
       "Heating_QC            2996.609888\n",
       "Bsmt_Qual             4994.574648\n",
       "Bsmt_Exposure         6230.644823\n",
       "MS_SubClass           9243.532987\n",
       "Overall_Qual         10302.772816\n",
       "Kitchen_Qual         14447.822687\n",
       "Neighborhood_High    31307.240169\n",
       "dtype: float64"
      ]
     },
     "metadata": {},
     "output_type": "display_data"
    },
    {
     "name": "stdout",
     "output_type": "stream",
     "text": [
      "Model Intercept: -337039.15573680284\n"
     ]
    }
   ],
   "source": [
    "get_coef_intercept(lr, X_train, y_train)"
   ]
  },
  {
   "cell_type": "markdown",
   "id": "8bb621e8",
   "metadata": {},
   "source": [
    "### (B) Standard Scaler"
   ]
  },
  {
   "cell_type": "code",
   "execution_count": 20,
   "id": "059b86be",
   "metadata": {},
   "outputs": [
    {
     "data": {
      "text/plain": [
       "Full_Bath            -2236.834018\n",
       "Neighborhood_Low     -1400.392065\n",
       "Garage_Type           -993.715112\n",
       "Exter_Qual            -405.890513\n",
       "Year_Built            -263.598661\n",
       "Garage_Finish          927.012937\n",
       "Foundation            1076.819005\n",
       "Heating_QC            2691.136131\n",
       "Year_Remod/Add        3322.865943\n",
       "Bsmt_Qual             3661.984369\n",
       "Fireplace_Qu          3806.505768\n",
       "MS_SubClass           4459.575051\n",
       "Mas_Vnr_Area          4723.266238\n",
       "Bsmt_Exposure         6518.417739\n",
       "Garage_Area           6897.357229\n",
       "Total_Bsmt_SF         7785.552145\n",
       "Neighborhood_High     8407.505133\n",
       "Kitchen_Qual          9060.836208\n",
       "BsmtFin_SF_1          9597.890891\n",
       "Overall_Qual         14466.910018\n",
       "Gr_Liv_Area          27000.639062\n",
       "dtype: float64"
      ]
     },
     "metadata": {},
     "output_type": "display_data"
    },
    {
     "name": "stdout",
     "output_type": "stream",
     "text": [
      "Model Intercept: 181464.00929095355\n"
     ]
    }
   ],
   "source": [
    "get_coef_intercept(lr, X_train_ss, y_train)"
   ]
  },
  {
   "cell_type": "markdown",
   "id": "0552232e",
   "metadata": {},
   "source": [
    "### (C) Power Transform"
   ]
  },
  {
   "cell_type": "code",
   "execution_count": 21,
   "id": "48e2492c",
   "metadata": {},
   "outputs": [
    {
     "data": {
      "text/plain": [
       "Neighborhood_Low    -0.082704\n",
       "Full_Bath           -0.016519\n",
       "Exter_Qual          -0.013597\n",
       "Mas_Vnr_Area        -0.008022\n",
       "Foundation          -0.001379\n",
       "Garage_Type          0.005204\n",
       "Year_Built           0.007598\n",
       "Garage_Finish        0.018622\n",
       "MS_SubClass          0.044694\n",
       "Bsmt_Qual            0.046420\n",
       "Kitchen_Qual         0.049386\n",
       "Bsmt_Exposure        0.051767\n",
       "Neighborhood_High    0.052119\n",
       "Heating_QC           0.054988\n",
       "Fireplace_Qu         0.061085\n",
       "Garage_Area          0.095246\n",
       "Year_Remod/Add       0.100621\n",
       "BsmtFin_SF_1         0.116238\n",
       "Total_Bsmt_SF        0.117682\n",
       "Overall_Qual         0.215524\n",
       "Gr_Liv_Area          0.341803\n",
       "dtype: float64"
      ]
     },
     "metadata": {},
     "output_type": "display_data"
    },
    {
     "name": "stdout",
     "output_type": "stream",
     "text": [
      "Model Intercept: -2.027520516152725e-15\n"
     ]
    }
   ],
   "source": [
    "get_coef_intercept(lr, X_train_pt, y_train_pt[:,0])"
   ]
  },
  {
   "cell_type": "markdown",
   "id": "65bad3c3",
   "metadata": {},
   "source": [
    "### Interpretation of Coefficients\n",
    "The top 3 features with the largest effects on SalePrice for the various models fitted are:\n",
    "\n",
    "|Scaling Method|None|Standard Scaler|Power Transform|\n",
    "|---|---|---|---|\n",
    "|Top|Neighborhood_High|Gr_Liv_Area|Gr_Liv_Area|\n",
    "|Second|Kitchen_Qual|Overall_Qual|Overall_Qual|\n",
    "|Third|Overall_Qual|BsmtFin_SF_1|Total_Bsmt_SF|\n",
    "\n",
    "No scaling gives very different features from the other 2. This is because the magnitudes of the raw values vary vastly, so one unit increase in Gr_Liv_Area is a lot less noticeable than 1 unit increase in Neighborhood_High.\n",
    "\n",
    "We should ignore the results of models with no scaling based on this dataset.\n",
    "\n",
    "The top 2 features are Gr_Liv_Area and Overall_Qual. We will interpret the coefficients using the Standard Scaler version."
   ]
  },
  {
   "cell_type": "code",
   "execution_count": 22,
   "id": "988ca8a2",
   "metadata": {
    "scrolled": true
   },
   "outputs": [
    {
     "data": {
      "text/html": [
       "<div>\n",
       "<style scoped>\n",
       "    .dataframe tbody tr th:only-of-type {\n",
       "        vertical-align: middle;\n",
       "    }\n",
       "\n",
       "    .dataframe tbody tr th {\n",
       "        vertical-align: top;\n",
       "    }\n",
       "\n",
       "    .dataframe thead th {\n",
       "        text-align: right;\n",
       "    }\n",
       "</style>\n",
       "<table border=\"1\" class=\"dataframe\">\n",
       "  <thead>\n",
       "    <tr style=\"text-align: right;\">\n",
       "      <th></th>\n",
       "      <th>Gr_Liv_Area</th>\n",
       "      <th>Overall_Qual</th>\n",
       "    </tr>\n",
       "  </thead>\n",
       "  <tbody>\n",
       "    <tr>\n",
       "      <th>count</th>\n",
       "      <td>2045.000000</td>\n",
       "      <td>2045.000000</td>\n",
       "    </tr>\n",
       "    <tr>\n",
       "      <th>mean</th>\n",
       "      <td>1494.266993</td>\n",
       "      <td>6.110024</td>\n",
       "    </tr>\n",
       "    <tr>\n",
       "      <th>std</th>\n",
       "      <td>483.126953</td>\n",
       "      <td>1.404520</td>\n",
       "    </tr>\n",
       "    <tr>\n",
       "      <th>min</th>\n",
       "      <td>334.000000</td>\n",
       "      <td>3.705000</td>\n",
       "    </tr>\n",
       "    <tr>\n",
       "      <th>25%</th>\n",
       "      <td>1128.000000</td>\n",
       "      <td>5.000000</td>\n",
       "    </tr>\n",
       "    <tr>\n",
       "      <th>50%</th>\n",
       "      <td>1442.000000</td>\n",
       "      <td>6.000000</td>\n",
       "    </tr>\n",
       "    <tr>\n",
       "      <th>75%</th>\n",
       "      <td>1728.000000</td>\n",
       "      <td>7.000000</td>\n",
       "    </tr>\n",
       "    <tr>\n",
       "      <th>max</th>\n",
       "      <td>3672.000000</td>\n",
       "      <td>9.214286</td>\n",
       "    </tr>\n",
       "  </tbody>\n",
       "</table>\n",
       "</div>"
      ],
      "text/plain": [
       "       Gr_Liv_Area  Overall_Qual\n",
       "count  2045.000000   2045.000000\n",
       "mean   1494.266993      6.110024\n",
       "std     483.126953      1.404520\n",
       "min     334.000000      3.705000\n",
       "25%    1128.000000      5.000000\n",
       "50%    1442.000000      6.000000\n",
       "75%    1728.000000      7.000000\n",
       "max    3672.000000      9.214286"
      ]
     },
     "execution_count": 22,
     "metadata": {},
     "output_type": "execute_result"
    }
   ],
   "source": [
    "# summary statistics for Gr_Liv_Area\n",
    "X_train[['Gr_Liv_Area','Overall_Qual']].describe()"
   ]
  },
  {
   "cell_type": "code",
   "execution_count": 23,
   "id": "adf29d33",
   "metadata": {},
   "outputs": [
    {
     "name": "stdout",
     "output_type": "stream",
     "text": [
      "1 standardized unit of Gr_Liv_Area: 1977.393946\n",
      "1 standardized unit of Overall_Qual: 7.514544\n"
     ]
    }
   ],
   "source": [
    "# we calculate the equivalent to 1 standardized unit using x = mu + sigma * z\n",
    "u_1 = 1494.266993 + 483.126953 * 1\n",
    "u_2 = 6.110024 + 1.404520 * 1\n",
    "print(f'1 standardized unit of Gr_Liv_Area: {u_1}')\n",
    "print(f'1 standardized unit of Overall_Qual: {u_2}')"
   ]
  },
  {
   "cell_type": "code",
   "execution_count": 24,
   "id": "8abf56ac",
   "metadata": {},
   "outputs": [
    {
     "name": "stdout",
     "output_type": "stream",
     "text": [
      "For every 1 square foot increase in Gr_Liv_Area, SalePrice is expected to increase by around $13.65.\n",
      "For every 1 point increase in Overall_Qual, SalePrice is expected to increase by around $1925.19\n"
     ]
    }
   ],
   "source": [
    "# we then divide the incremental SalePrice ($27000 and $14500) by the above values\n",
    "# to find the amount SalePrice increases for each square feet increase in Gr_Liv_Area \n",
    "# and each 1 point increase in Overall_Qual\n",
    "m_1 = 27000.639062 / 1977.393946\n",
    "m_2 = 14466.910018 / 7.514544\n",
    "print(f'For every 1 square foot increase in Gr_Liv_Area, SalePrice is expected to increase by around ${round(m_1,2)}.')\n",
    "print(f'For every 1 point increase in Overall_Qual, SalePrice is expected to increase by around ${round(m_2,2)}')"
   ]
  },
  {
   "cell_type": "markdown",
   "id": "0741c902",
   "metadata": {},
   "source": [
    "## Conclusion\n",
    "For higher sale price, the most important things to do are to increase to living area above ground and to get a higher score in overall quality by using better material and having better finishing.\n",
    "\n",
    "Amongst the top ten features in both the models using Standard Scaling and Power Transform, in addition to the 2 already discussed, there are 5 more, of which 3 involve the Basement (BsmtFin_SF_1, Total_Bsmt_SF, Bsmt_Exposure) and the remaining 2 are Neighborhood_High and Garage_Area.\n",
    "\n",
    "Hence, we would strongly recommend that efforts be put into improving the Basement if we wish to command a higher sale price.\n",
    "\n",
    "For a house-hunter looking for a better deal, he might wish to avoid the 3 neighborhoods of Brookside, Northridge and Northridge Heights which command higher sale prices than the other neighborhoods in Ames. "
   ]
  }
 ],
 "metadata": {
  "kernelspec": {
   "display_name": "Python 3 (ipykernel)",
   "language": "python",
   "name": "python3"
  },
  "language_info": {
   "codemirror_mode": {
    "name": "ipython",
    "version": 3
   },
   "file_extension": ".py",
   "mimetype": "text/x-python",
   "name": "python",
   "nbconvert_exporter": "python",
   "pygments_lexer": "ipython3",
   "version": "3.8.12"
  }
 },
 "nbformat": 4,
 "nbformat_minor": 5
}
